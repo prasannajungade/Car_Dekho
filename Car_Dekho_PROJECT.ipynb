{
 "cells": [
  {
   "cell_type": "code",
   "execution_count": 80,
   "id": "57af099a",
   "metadata": {},
   "outputs": [],
   "source": [
    "import pandas as pd\n",
    "import numpy as np\n",
    "\n",
    "import matplotlib.pyplot as plt\n",
    "import seaborn as sns\n",
    "\n",
    "from statsmodels.stats.outliers_influence import variance_inflation_factor\n",
    "from sklearn.model_selection import train_test_split\n",
    "from sklearn.linear_model import LinearRegression\n",
    "from sklearn.metrics import mean_absolute_error,mean_squared_error,r2_score\n",
    "\n",
    "import warnings\n",
    "warnings.filterwarnings(\"ignore\")\n",
    "\n",
    "\n",
    "import statsmodels.api as sm \n",
    "\n",
    "from scipy.stats import shapiro,kstest,normaltest,skew\n",
    "\n",
    "import pickle\n",
    "import json"
   ]
  },
  {
   "cell_type": "markdown",
   "id": "19d9eaa4",
   "metadata": {},
   "source": [
    "### 1.Problem  Statement"
   ]
  },
  {
   "cell_type": "raw",
   "id": "df4e4351",
   "metadata": {},
   "source": [
    "Problem Statement -\n",
    "    This dataset contains information about \"Secound hand cars\" and we are going to predict the Selling Price of Car by using       below variables\n",
    "            Car_Name       -Name of the car.\n",
    "            Year           -The year in which the car was bought.\n",
    "            Present_Price  -Current ex-showroom price of the car.\n",
    "            Kms_Driven     -The distance completed by the car in km.\n",
    "            Fuel_Type      -Fuel type of the car.\n",
    "            Seller_Type    -Defines whether the seller is a dealer or an individual.\n",
    "            Transmission   -Defines whether the car is manual or automatic.\n",
    "            Owner          -Defines the number of owners the car has previously had.\n",
    "            Selling_Price  -The price the owner wants to sell the car at.(TARGET)"
   ]
  },
  {
   "cell_type": "markdown",
   "id": "531ce09f",
   "metadata": {},
   "source": [
    "### 2.Data Gathering"
   ]
  },
  {
   "cell_type": "code",
   "execution_count": 81,
   "id": "170dcc08",
   "metadata": {
    "scrolled": false
   },
   "outputs": [
    {
     "data": {
      "text/html": [
       "<div>\n",
       "<style scoped>\n",
       "    .dataframe tbody tr th:only-of-type {\n",
       "        vertical-align: middle;\n",
       "    }\n",
       "\n",
       "    .dataframe tbody tr th {\n",
       "        vertical-align: top;\n",
       "    }\n",
       "\n",
       "    .dataframe thead th {\n",
       "        text-align: right;\n",
       "    }\n",
       "</style>\n",
       "<table border=\"1\" class=\"dataframe\">\n",
       "  <thead>\n",
       "    <tr style=\"text-align: right;\">\n",
       "      <th></th>\n",
       "      <th>Car_Name</th>\n",
       "      <th>Year</th>\n",
       "      <th>Selling_Price</th>\n",
       "      <th>Present_Price</th>\n",
       "      <th>Kms_Driven</th>\n",
       "      <th>Fuel_Type</th>\n",
       "      <th>Seller_Type</th>\n",
       "      <th>Transmission</th>\n",
       "      <th>Owner</th>\n",
       "    </tr>\n",
       "  </thead>\n",
       "  <tbody>\n",
       "    <tr>\n",
       "      <th>0</th>\n",
       "      <td>ritz</td>\n",
       "      <td>2014</td>\n",
       "      <td>3.35</td>\n",
       "      <td>5.59</td>\n",
       "      <td>27000</td>\n",
       "      <td>Petrol</td>\n",
       "      <td>Dealer</td>\n",
       "      <td>Manual</td>\n",
       "      <td>0</td>\n",
       "    </tr>\n",
       "    <tr>\n",
       "      <th>1</th>\n",
       "      <td>sx4</td>\n",
       "      <td>2013</td>\n",
       "      <td>4.75</td>\n",
       "      <td>9.54</td>\n",
       "      <td>43000</td>\n",
       "      <td>Diesel</td>\n",
       "      <td>Dealer</td>\n",
       "      <td>Manual</td>\n",
       "      <td>0</td>\n",
       "    </tr>\n",
       "    <tr>\n",
       "      <th>2</th>\n",
       "      <td>ciaz</td>\n",
       "      <td>2017</td>\n",
       "      <td>7.25</td>\n",
       "      <td>9.85</td>\n",
       "      <td>6900</td>\n",
       "      <td>Petrol</td>\n",
       "      <td>Dealer</td>\n",
       "      <td>Manual</td>\n",
       "      <td>0</td>\n",
       "    </tr>\n",
       "    <tr>\n",
       "      <th>3</th>\n",
       "      <td>wagon r</td>\n",
       "      <td>2011</td>\n",
       "      <td>2.85</td>\n",
       "      <td>4.15</td>\n",
       "      <td>5200</td>\n",
       "      <td>Petrol</td>\n",
       "      <td>Dealer</td>\n",
       "      <td>Manual</td>\n",
       "      <td>0</td>\n",
       "    </tr>\n",
       "    <tr>\n",
       "      <th>4</th>\n",
       "      <td>swift</td>\n",
       "      <td>2014</td>\n",
       "      <td>4.60</td>\n",
       "      <td>6.87</td>\n",
       "      <td>42450</td>\n",
       "      <td>Diesel</td>\n",
       "      <td>Dealer</td>\n",
       "      <td>Manual</td>\n",
       "      <td>0</td>\n",
       "    </tr>\n",
       "    <tr>\n",
       "      <th>...</th>\n",
       "      <td>...</td>\n",
       "      <td>...</td>\n",
       "      <td>...</td>\n",
       "      <td>...</td>\n",
       "      <td>...</td>\n",
       "      <td>...</td>\n",
       "      <td>...</td>\n",
       "      <td>...</td>\n",
       "      <td>...</td>\n",
       "    </tr>\n",
       "    <tr>\n",
       "      <th>296</th>\n",
       "      <td>city</td>\n",
       "      <td>2016</td>\n",
       "      <td>9.50</td>\n",
       "      <td>11.60</td>\n",
       "      <td>33988</td>\n",
       "      <td>Diesel</td>\n",
       "      <td>Dealer</td>\n",
       "      <td>Manual</td>\n",
       "      <td>0</td>\n",
       "    </tr>\n",
       "    <tr>\n",
       "      <th>297</th>\n",
       "      <td>brio</td>\n",
       "      <td>2015</td>\n",
       "      <td>4.00</td>\n",
       "      <td>5.90</td>\n",
       "      <td>60000</td>\n",
       "      <td>Petrol</td>\n",
       "      <td>Dealer</td>\n",
       "      <td>Manual</td>\n",
       "      <td>0</td>\n",
       "    </tr>\n",
       "    <tr>\n",
       "      <th>298</th>\n",
       "      <td>city</td>\n",
       "      <td>2009</td>\n",
       "      <td>3.35</td>\n",
       "      <td>11.00</td>\n",
       "      <td>87934</td>\n",
       "      <td>Petrol</td>\n",
       "      <td>Dealer</td>\n",
       "      <td>Manual</td>\n",
       "      <td>0</td>\n",
       "    </tr>\n",
       "    <tr>\n",
       "      <th>299</th>\n",
       "      <td>city</td>\n",
       "      <td>2017</td>\n",
       "      <td>11.50</td>\n",
       "      <td>12.50</td>\n",
       "      <td>9000</td>\n",
       "      <td>Diesel</td>\n",
       "      <td>Dealer</td>\n",
       "      <td>Manual</td>\n",
       "      <td>0</td>\n",
       "    </tr>\n",
       "    <tr>\n",
       "      <th>300</th>\n",
       "      <td>brio</td>\n",
       "      <td>2016</td>\n",
       "      <td>5.30</td>\n",
       "      <td>5.90</td>\n",
       "      <td>5464</td>\n",
       "      <td>Petrol</td>\n",
       "      <td>Dealer</td>\n",
       "      <td>Manual</td>\n",
       "      <td>0</td>\n",
       "    </tr>\n",
       "  </tbody>\n",
       "</table>\n",
       "<p>301 rows × 9 columns</p>\n",
       "</div>"
      ],
      "text/plain": [
       "    Car_Name  Year  Selling_Price  Present_Price  Kms_Driven Fuel_Type   \n",
       "0       ritz  2014           3.35           5.59       27000    Petrol  \\\n",
       "1        sx4  2013           4.75           9.54       43000    Diesel   \n",
       "2       ciaz  2017           7.25           9.85        6900    Petrol   \n",
       "3    wagon r  2011           2.85           4.15        5200    Petrol   \n",
       "4      swift  2014           4.60           6.87       42450    Diesel   \n",
       "..       ...   ...            ...            ...         ...       ...   \n",
       "296     city  2016           9.50          11.60       33988    Diesel   \n",
       "297     brio  2015           4.00           5.90       60000    Petrol   \n",
       "298     city  2009           3.35          11.00       87934    Petrol   \n",
       "299     city  2017          11.50          12.50        9000    Diesel   \n",
       "300     brio  2016           5.30           5.90        5464    Petrol   \n",
       "\n",
       "    Seller_Type Transmission  Owner  \n",
       "0        Dealer       Manual      0  \n",
       "1        Dealer       Manual      0  \n",
       "2        Dealer       Manual      0  \n",
       "3        Dealer       Manual      0  \n",
       "4        Dealer       Manual      0  \n",
       "..          ...          ...    ...  \n",
       "296      Dealer       Manual      0  \n",
       "297      Dealer       Manual      0  \n",
       "298      Dealer       Manual      0  \n",
       "299      Dealer       Manual      0  \n",
       "300      Dealer       Manual      0  \n",
       "\n",
       "[301 rows x 9 columns]"
      ]
     },
     "execution_count": 81,
     "metadata": {},
     "output_type": "execute_result"
    }
   ],
   "source": [
    "df=pd.read_csv(\"car_data.csv\")\n",
    "df"
   ]
  },
  {
   "cell_type": "code",
   "execution_count": 82,
   "id": "b637e30a",
   "metadata": {},
   "outputs": [
    {
     "name": "stdout",
     "output_type": "stream",
     "text": [
      "<class 'pandas.core.frame.DataFrame'>\n",
      "RangeIndex: 301 entries, 0 to 300\n",
      "Data columns (total 9 columns):\n",
      " #   Column         Non-Null Count  Dtype  \n",
      "---  ------         --------------  -----  \n",
      " 0   Car_Name       301 non-null    object \n",
      " 1   Year           301 non-null    int64  \n",
      " 2   Selling_Price  301 non-null    float64\n",
      " 3   Present_Price  301 non-null    float64\n",
      " 4   Kms_Driven     301 non-null    int64  \n",
      " 5   Fuel_Type      301 non-null    object \n",
      " 6   Seller_Type    301 non-null    object \n",
      " 7   Transmission   301 non-null    object \n",
      " 8   Owner          301 non-null    int64  \n",
      "dtypes: float64(2), int64(3), object(4)\n",
      "memory usage: 21.3+ KB\n"
     ]
    }
   ],
   "source": [
    "df.info()"
   ]
  },
  {
   "cell_type": "markdown",
   "id": "abe71d29",
   "metadata": {},
   "source": [
    "### 3. Exploratory Data Analysis(EDA)¶"
   ]
  },
  {
   "cell_type": "raw",
   "id": "28aa711a",
   "metadata": {},
   "source": [
    "1. Missing Values\n",
    "2. Outliers\n",
    "3. Categorical Data(Object DataTypes)"
   ]
  },
  {
   "cell_type": "code",
   "execution_count": 83,
   "id": "7efcdd33",
   "metadata": {},
   "outputs": [
    {
     "data": {
      "text/plain": [
       "Car_Name         0\n",
       "Year             0\n",
       "Selling_Price    0\n",
       "Present_Price    0\n",
       "Kms_Driven       0\n",
       "Fuel_Type        0\n",
       "Seller_Type      0\n",
       "Transmission     0\n",
       "Owner            0\n",
       "dtype: int64"
      ]
     },
     "execution_count": 83,
     "metadata": {},
     "output_type": "execute_result"
    }
   ],
   "source": [
    "df.isna().sum()"
   ]
  },
  {
   "cell_type": "code",
   "execution_count": 84,
   "id": "4cb6a16e",
   "metadata": {},
   "outputs": [
    {
     "data": {
      "text/plain": [
       "Car_Name\n",
       "city                        26\n",
       "corolla altis               16\n",
       "verna                       14\n",
       "fortuner                    11\n",
       "brio                        10\n",
       "                            ..\n",
       "Honda CB Trigger             1\n",
       "Yamaha FZ S                  1\n",
       "Bajaj Pulsar 135 LS          1\n",
       "Activa 4g                    1\n",
       "Bajaj Avenger Street 220     1\n",
       "Name: count, Length: 98, dtype: int64"
      ]
     },
     "execution_count": 84,
     "metadata": {},
     "output_type": "execute_result"
    }
   ],
   "source": [
    "df.Car_Name.value_counts()"
   ]
  },
  {
   "cell_type": "code",
   "execution_count": 85,
   "id": "db449226",
   "metadata": {},
   "outputs": [
    {
     "data": {
      "text/plain": [
       "array(['Petrol', 'Diesel', 'CNG'], dtype=object)"
      ]
     },
     "execution_count": 85,
     "metadata": {},
     "output_type": "execute_result"
    }
   ],
   "source": [
    "df['Fuel_Type'].unique()"
   ]
  },
  {
   "cell_type": "code",
   "execution_count": 86,
   "id": "ca93fb7d",
   "metadata": {},
   "outputs": [
    {
     "data": {
      "text/plain": [
       "Fuel_Type\n",
       "Petrol    239\n",
       "Diesel     60\n",
       "CNG         2\n",
       "Name: count, dtype: int64"
      ]
     },
     "execution_count": 86,
     "metadata": {},
     "output_type": "execute_result"
    }
   ],
   "source": [
    "df['Fuel_Type'].value_counts()"
   ]
  },
  {
   "cell_type": "markdown",
   "id": "332a21f1",
   "metadata": {},
   "source": [
    "### 4. Feature Engineering"
   ]
  },
  {
   "cell_type": "raw",
   "id": "c32cee5a",
   "metadata": {},
   "source": [
    "1. Feature Transformation:\n",
    "    Log Transformation\n",
    "    Sqaure root\n",
    "    box cox\n",
    "    yeo-johnson\n",
    "    \n",
    "2. Impute Missing Values\n",
    "3. Encoding:\n",
    "    Label \n",
    "    One Hot"
   ]
  },
  {
   "cell_type": "markdown",
   "id": "a0c7da02",
   "metadata": {},
   "source": [
    "##### Encoding"
   ]
  },
  {
   "cell_type": "code",
   "execution_count": 87,
   "id": "e8010320",
   "metadata": {
    "scrolled": true
   },
   "outputs": [
    {
     "data": {
      "text/html": [
       "<div>\n",
       "<style scoped>\n",
       "    .dataframe tbody tr th:only-of-type {\n",
       "        vertical-align: middle;\n",
       "    }\n",
       "\n",
       "    .dataframe tbody tr th {\n",
       "        vertical-align: top;\n",
       "    }\n",
       "\n",
       "    .dataframe thead th {\n",
       "        text-align: right;\n",
       "    }\n",
       "</style>\n",
       "<table border=\"1\" class=\"dataframe\">\n",
       "  <thead>\n",
       "    <tr style=\"text-align: right;\">\n",
       "      <th></th>\n",
       "      <th>Car_Name</th>\n",
       "      <th>Year</th>\n",
       "      <th>Selling_Price</th>\n",
       "      <th>Present_Price</th>\n",
       "      <th>Kms_Driven</th>\n",
       "      <th>Seller_Type</th>\n",
       "      <th>Transmission</th>\n",
       "      <th>Owner</th>\n",
       "      <th>Fuel_Type_CNG</th>\n",
       "      <th>Fuel_Type_Diesel</th>\n",
       "      <th>Fuel_Type_Petrol</th>\n",
       "    </tr>\n",
       "  </thead>\n",
       "  <tbody>\n",
       "    <tr>\n",
       "      <th>0</th>\n",
       "      <td>ritz</td>\n",
       "      <td>2014</td>\n",
       "      <td>3.35</td>\n",
       "      <td>5.59</td>\n",
       "      <td>27000</td>\n",
       "      <td>Dealer</td>\n",
       "      <td>Manual</td>\n",
       "      <td>0</td>\n",
       "      <td>0</td>\n",
       "      <td>0</td>\n",
       "      <td>1</td>\n",
       "    </tr>\n",
       "    <tr>\n",
       "      <th>1</th>\n",
       "      <td>sx4</td>\n",
       "      <td>2013</td>\n",
       "      <td>4.75</td>\n",
       "      <td>9.54</td>\n",
       "      <td>43000</td>\n",
       "      <td>Dealer</td>\n",
       "      <td>Manual</td>\n",
       "      <td>0</td>\n",
       "      <td>0</td>\n",
       "      <td>1</td>\n",
       "      <td>0</td>\n",
       "    </tr>\n",
       "    <tr>\n",
       "      <th>2</th>\n",
       "      <td>ciaz</td>\n",
       "      <td>2017</td>\n",
       "      <td>7.25</td>\n",
       "      <td>9.85</td>\n",
       "      <td>6900</td>\n",
       "      <td>Dealer</td>\n",
       "      <td>Manual</td>\n",
       "      <td>0</td>\n",
       "      <td>0</td>\n",
       "      <td>0</td>\n",
       "      <td>1</td>\n",
       "    </tr>\n",
       "    <tr>\n",
       "      <th>3</th>\n",
       "      <td>wagon r</td>\n",
       "      <td>2011</td>\n",
       "      <td>2.85</td>\n",
       "      <td>4.15</td>\n",
       "      <td>5200</td>\n",
       "      <td>Dealer</td>\n",
       "      <td>Manual</td>\n",
       "      <td>0</td>\n",
       "      <td>0</td>\n",
       "      <td>0</td>\n",
       "      <td>1</td>\n",
       "    </tr>\n",
       "    <tr>\n",
       "      <th>4</th>\n",
       "      <td>swift</td>\n",
       "      <td>2014</td>\n",
       "      <td>4.60</td>\n",
       "      <td>6.87</td>\n",
       "      <td>42450</td>\n",
       "      <td>Dealer</td>\n",
       "      <td>Manual</td>\n",
       "      <td>0</td>\n",
       "      <td>0</td>\n",
       "      <td>1</td>\n",
       "      <td>0</td>\n",
       "    </tr>\n",
       "    <tr>\n",
       "      <th>...</th>\n",
       "      <td>...</td>\n",
       "      <td>...</td>\n",
       "      <td>...</td>\n",
       "      <td>...</td>\n",
       "      <td>...</td>\n",
       "      <td>...</td>\n",
       "      <td>...</td>\n",
       "      <td>...</td>\n",
       "      <td>...</td>\n",
       "      <td>...</td>\n",
       "      <td>...</td>\n",
       "    </tr>\n",
       "    <tr>\n",
       "      <th>296</th>\n",
       "      <td>city</td>\n",
       "      <td>2016</td>\n",
       "      <td>9.50</td>\n",
       "      <td>11.60</td>\n",
       "      <td>33988</td>\n",
       "      <td>Dealer</td>\n",
       "      <td>Manual</td>\n",
       "      <td>0</td>\n",
       "      <td>0</td>\n",
       "      <td>1</td>\n",
       "      <td>0</td>\n",
       "    </tr>\n",
       "    <tr>\n",
       "      <th>297</th>\n",
       "      <td>brio</td>\n",
       "      <td>2015</td>\n",
       "      <td>4.00</td>\n",
       "      <td>5.90</td>\n",
       "      <td>60000</td>\n",
       "      <td>Dealer</td>\n",
       "      <td>Manual</td>\n",
       "      <td>0</td>\n",
       "      <td>0</td>\n",
       "      <td>0</td>\n",
       "      <td>1</td>\n",
       "    </tr>\n",
       "    <tr>\n",
       "      <th>298</th>\n",
       "      <td>city</td>\n",
       "      <td>2009</td>\n",
       "      <td>3.35</td>\n",
       "      <td>11.00</td>\n",
       "      <td>87934</td>\n",
       "      <td>Dealer</td>\n",
       "      <td>Manual</td>\n",
       "      <td>0</td>\n",
       "      <td>0</td>\n",
       "      <td>0</td>\n",
       "      <td>1</td>\n",
       "    </tr>\n",
       "    <tr>\n",
       "      <th>299</th>\n",
       "      <td>city</td>\n",
       "      <td>2017</td>\n",
       "      <td>11.50</td>\n",
       "      <td>12.50</td>\n",
       "      <td>9000</td>\n",
       "      <td>Dealer</td>\n",
       "      <td>Manual</td>\n",
       "      <td>0</td>\n",
       "      <td>0</td>\n",
       "      <td>1</td>\n",
       "      <td>0</td>\n",
       "    </tr>\n",
       "    <tr>\n",
       "      <th>300</th>\n",
       "      <td>brio</td>\n",
       "      <td>2016</td>\n",
       "      <td>5.30</td>\n",
       "      <td>5.90</td>\n",
       "      <td>5464</td>\n",
       "      <td>Dealer</td>\n",
       "      <td>Manual</td>\n",
       "      <td>0</td>\n",
       "      <td>0</td>\n",
       "      <td>0</td>\n",
       "      <td>1</td>\n",
       "    </tr>\n",
       "  </tbody>\n",
       "</table>\n",
       "<p>301 rows × 11 columns</p>\n",
       "</div>"
      ],
      "text/plain": [
       "    Car_Name  Year  Selling_Price  Present_Price  Kms_Driven Seller_Type   \n",
       "0       ritz  2014           3.35           5.59       27000      Dealer  \\\n",
       "1        sx4  2013           4.75           9.54       43000      Dealer   \n",
       "2       ciaz  2017           7.25           9.85        6900      Dealer   \n",
       "3    wagon r  2011           2.85           4.15        5200      Dealer   \n",
       "4      swift  2014           4.60           6.87       42450      Dealer   \n",
       "..       ...   ...            ...            ...         ...         ...   \n",
       "296     city  2016           9.50          11.60       33988      Dealer   \n",
       "297     brio  2015           4.00           5.90       60000      Dealer   \n",
       "298     city  2009           3.35          11.00       87934      Dealer   \n",
       "299     city  2017          11.50          12.50        9000      Dealer   \n",
       "300     brio  2016           5.30           5.90        5464      Dealer   \n",
       "\n",
       "    Transmission  Owner  Fuel_Type_CNG  Fuel_Type_Diesel  Fuel_Type_Petrol  \n",
       "0         Manual      0              0                 0                 1  \n",
       "1         Manual      0              0                 1                 0  \n",
       "2         Manual      0              0                 0                 1  \n",
       "3         Manual      0              0                 0                 1  \n",
       "4         Manual      0              0                 1                 0  \n",
       "..           ...    ...            ...               ...               ...  \n",
       "296       Manual      0              0                 1                 0  \n",
       "297       Manual      0              0                 0                 1  \n",
       "298       Manual      0              0                 0                 1  \n",
       "299       Manual      0              0                 1                 0  \n",
       "300       Manual      0              0                 0                 1  \n",
       "\n",
       "[301 rows x 11 columns]"
      ]
     },
     "execution_count": 87,
     "metadata": {},
     "output_type": "execute_result"
    }
   ],
   "source": [
    "df = pd.get_dummies(df,columns=['Fuel_Type'], dtype = int)\n",
    "df"
   ]
  },
  {
   "cell_type": "code",
   "execution_count": 9,
   "id": "e4dcdfee",
   "metadata": {},
   "outputs": [
    {
     "data": {
      "text/plain": [
       "Seller_Type\n",
       "Dealer        195\n",
       "Individual    106\n",
       "Name: count, dtype: int64"
      ]
     },
     "execution_count": 9,
     "metadata": {},
     "output_type": "execute_result"
    }
   ],
   "source": [
    "df[\"Seller_Type\"].value_counts()"
   ]
  },
  {
   "cell_type": "code",
   "execution_count": 88,
   "id": "53408e3d",
   "metadata": {},
   "outputs": [],
   "source": [
    "df[\"Seller_Type\"].replace({\"Dealer\":1 ,\"Individual\":0},inplace=True)"
   ]
  },
  {
   "cell_type": "code",
   "execution_count": 91,
   "id": "914d5419",
   "metadata": {},
   "outputs": [],
   "source": [
    "new_data1={\"Dealer\":1 ,\"Individual\":0}"
   ]
  },
  {
   "cell_type": "code",
   "execution_count": 92,
   "id": "db0599aa",
   "metadata": {},
   "outputs": [
    {
     "name": "stdout",
     "output_type": "stream",
     "text": [
      "<class 'pandas.core.frame.DataFrame'>\n",
      "RangeIndex: 301 entries, 0 to 300\n",
      "Data columns (total 11 columns):\n",
      " #   Column            Non-Null Count  Dtype  \n",
      "---  ------            --------------  -----  \n",
      " 0   Car_Name          301 non-null    object \n",
      " 1   Year              301 non-null    int64  \n",
      " 2   Selling_Price     301 non-null    float64\n",
      " 3   Present_Price     301 non-null    float64\n",
      " 4   Kms_Driven        301 non-null    int64  \n",
      " 5   Seller_Type       301 non-null    int64  \n",
      " 6   Transmission      301 non-null    object \n",
      " 7   Owner             301 non-null    int64  \n",
      " 8   Fuel_Type_CNG     301 non-null    int32  \n",
      " 9   Fuel_Type_Diesel  301 non-null    int32  \n",
      " 10  Fuel_Type_Petrol  301 non-null    int32  \n",
      "dtypes: float64(2), int32(3), int64(4), object(2)\n",
      "memory usage: 22.5+ KB\n"
     ]
    }
   ],
   "source": [
    "df.info()"
   ]
  },
  {
   "cell_type": "code",
   "execution_count": 93,
   "id": "29532f87",
   "metadata": {},
   "outputs": [
    {
     "data": {
      "text/plain": [
       "Transmission\n",
       "Manual       261\n",
       "Automatic     40\n",
       "Name: count, dtype: int64"
      ]
     },
     "execution_count": 93,
     "metadata": {},
     "output_type": "execute_result"
    }
   ],
   "source": [
    "df[\"Transmission\"].value_counts()"
   ]
  },
  {
   "cell_type": "code",
   "execution_count": 94,
   "id": "f35e3255",
   "metadata": {},
   "outputs": [],
   "source": [
    "df[\"Transmission\"].replace({\"Manual\":1, \"Automatic\":0},inplace=True)"
   ]
  },
  {
   "cell_type": "code",
   "execution_count": 95,
   "id": "52255405",
   "metadata": {},
   "outputs": [],
   "source": [
    "new_data2={\"Manual\":1, \"Automatic\":0}"
   ]
  },
  {
   "cell_type": "markdown",
   "id": "458b92f6",
   "metadata": {},
   "source": [
    "### 5. Feature Selection/Extraction"
   ]
  },
  {
   "cell_type": "raw",
   "id": "cff05c18",
   "metadata": {},
   "source": [
    "Feature Selection >> Best set of feature\n",
    "1. Filter Method:(Before model training)\n",
    "    1. Linearity\n",
    "    2. VIF\n",
    "    \n",
    "2. Wrapper Method(At the time of model training)\n",
    "3. Embedded Method(After model training)"
   ]
  },
  {
   "cell_type": "markdown",
   "id": "4cb9a231",
   "metadata": {},
   "source": [
    "##### 5.1 Linearity"
   ]
  },
  {
   "cell_type": "code",
   "execution_count": 96,
   "id": "7a8dcf44",
   "metadata": {},
   "outputs": [
    {
     "data": {
      "text/html": [
       "<div>\n",
       "<style scoped>\n",
       "    .dataframe tbody tr th:only-of-type {\n",
       "        vertical-align: middle;\n",
       "    }\n",
       "\n",
       "    .dataframe tbody tr th {\n",
       "        vertical-align: top;\n",
       "    }\n",
       "\n",
       "    .dataframe thead th {\n",
       "        text-align: right;\n",
       "    }\n",
       "</style>\n",
       "<table border=\"1\" class=\"dataframe\">\n",
       "  <thead>\n",
       "    <tr style=\"text-align: right;\">\n",
       "      <th></th>\n",
       "      <th>Year</th>\n",
       "      <th>Selling_Price</th>\n",
       "      <th>Present_Price</th>\n",
       "      <th>Kms_Driven</th>\n",
       "      <th>Seller_Type</th>\n",
       "      <th>Transmission</th>\n",
       "      <th>Owner</th>\n",
       "      <th>Fuel_Type_CNG</th>\n",
       "      <th>Fuel_Type_Diesel</th>\n",
       "      <th>Fuel_Type_Petrol</th>\n",
       "    </tr>\n",
       "  </thead>\n",
       "  <tbody>\n",
       "    <tr>\n",
       "      <th>0</th>\n",
       "      <td>2014</td>\n",
       "      <td>3.35</td>\n",
       "      <td>5.59</td>\n",
       "      <td>27000</td>\n",
       "      <td>1</td>\n",
       "      <td>1</td>\n",
       "      <td>0</td>\n",
       "      <td>0</td>\n",
       "      <td>0</td>\n",
       "      <td>1</td>\n",
       "    </tr>\n",
       "    <tr>\n",
       "      <th>1</th>\n",
       "      <td>2013</td>\n",
       "      <td>4.75</td>\n",
       "      <td>9.54</td>\n",
       "      <td>43000</td>\n",
       "      <td>1</td>\n",
       "      <td>1</td>\n",
       "      <td>0</td>\n",
       "      <td>0</td>\n",
       "      <td>1</td>\n",
       "      <td>0</td>\n",
       "    </tr>\n",
       "    <tr>\n",
       "      <th>2</th>\n",
       "      <td>2017</td>\n",
       "      <td>7.25</td>\n",
       "      <td>9.85</td>\n",
       "      <td>6900</td>\n",
       "      <td>1</td>\n",
       "      <td>1</td>\n",
       "      <td>0</td>\n",
       "      <td>0</td>\n",
       "      <td>0</td>\n",
       "      <td>1</td>\n",
       "    </tr>\n",
       "    <tr>\n",
       "      <th>3</th>\n",
       "      <td>2011</td>\n",
       "      <td>2.85</td>\n",
       "      <td>4.15</td>\n",
       "      <td>5200</td>\n",
       "      <td>1</td>\n",
       "      <td>1</td>\n",
       "      <td>0</td>\n",
       "      <td>0</td>\n",
       "      <td>0</td>\n",
       "      <td>1</td>\n",
       "    </tr>\n",
       "    <tr>\n",
       "      <th>4</th>\n",
       "      <td>2014</td>\n",
       "      <td>4.60</td>\n",
       "      <td>6.87</td>\n",
       "      <td>42450</td>\n",
       "      <td>1</td>\n",
       "      <td>1</td>\n",
       "      <td>0</td>\n",
       "      <td>0</td>\n",
       "      <td>1</td>\n",
       "      <td>0</td>\n",
       "    </tr>\n",
       "    <tr>\n",
       "      <th>...</th>\n",
       "      <td>...</td>\n",
       "      <td>...</td>\n",
       "      <td>...</td>\n",
       "      <td>...</td>\n",
       "      <td>...</td>\n",
       "      <td>...</td>\n",
       "      <td>...</td>\n",
       "      <td>...</td>\n",
       "      <td>...</td>\n",
       "      <td>...</td>\n",
       "    </tr>\n",
       "    <tr>\n",
       "      <th>296</th>\n",
       "      <td>2016</td>\n",
       "      <td>9.50</td>\n",
       "      <td>11.60</td>\n",
       "      <td>33988</td>\n",
       "      <td>1</td>\n",
       "      <td>1</td>\n",
       "      <td>0</td>\n",
       "      <td>0</td>\n",
       "      <td>1</td>\n",
       "      <td>0</td>\n",
       "    </tr>\n",
       "    <tr>\n",
       "      <th>297</th>\n",
       "      <td>2015</td>\n",
       "      <td>4.00</td>\n",
       "      <td>5.90</td>\n",
       "      <td>60000</td>\n",
       "      <td>1</td>\n",
       "      <td>1</td>\n",
       "      <td>0</td>\n",
       "      <td>0</td>\n",
       "      <td>0</td>\n",
       "      <td>1</td>\n",
       "    </tr>\n",
       "    <tr>\n",
       "      <th>298</th>\n",
       "      <td>2009</td>\n",
       "      <td>3.35</td>\n",
       "      <td>11.00</td>\n",
       "      <td>87934</td>\n",
       "      <td>1</td>\n",
       "      <td>1</td>\n",
       "      <td>0</td>\n",
       "      <td>0</td>\n",
       "      <td>0</td>\n",
       "      <td>1</td>\n",
       "    </tr>\n",
       "    <tr>\n",
       "      <th>299</th>\n",
       "      <td>2017</td>\n",
       "      <td>11.50</td>\n",
       "      <td>12.50</td>\n",
       "      <td>9000</td>\n",
       "      <td>1</td>\n",
       "      <td>1</td>\n",
       "      <td>0</td>\n",
       "      <td>0</td>\n",
       "      <td>1</td>\n",
       "      <td>0</td>\n",
       "    </tr>\n",
       "    <tr>\n",
       "      <th>300</th>\n",
       "      <td>2016</td>\n",
       "      <td>5.30</td>\n",
       "      <td>5.90</td>\n",
       "      <td>5464</td>\n",
       "      <td>1</td>\n",
       "      <td>1</td>\n",
       "      <td>0</td>\n",
       "      <td>0</td>\n",
       "      <td>0</td>\n",
       "      <td>1</td>\n",
       "    </tr>\n",
       "  </tbody>\n",
       "</table>\n",
       "<p>301 rows × 10 columns</p>\n",
       "</div>"
      ],
      "text/plain": [
       "     Year  Selling_Price  Present_Price  Kms_Driven  Seller_Type   \n",
       "0    2014           3.35           5.59       27000            1  \\\n",
       "1    2013           4.75           9.54       43000            1   \n",
       "2    2017           7.25           9.85        6900            1   \n",
       "3    2011           2.85           4.15        5200            1   \n",
       "4    2014           4.60           6.87       42450            1   \n",
       "..    ...            ...            ...         ...          ...   \n",
       "296  2016           9.50          11.60       33988            1   \n",
       "297  2015           4.00           5.90       60000            1   \n",
       "298  2009           3.35          11.00       87934            1   \n",
       "299  2017          11.50          12.50        9000            1   \n",
       "300  2016           5.30           5.90        5464            1   \n",
       "\n",
       "     Transmission  Owner  Fuel_Type_CNG  Fuel_Type_Diesel  Fuel_Type_Petrol  \n",
       "0               1      0              0                 0                 1  \n",
       "1               1      0              0                 1                 0  \n",
       "2               1      0              0                 0                 1  \n",
       "3               1      0              0                 0                 1  \n",
       "4               1      0              0                 1                 0  \n",
       "..            ...    ...            ...               ...               ...  \n",
       "296             1      0              0                 1                 0  \n",
       "297             1      0              0                 0                 1  \n",
       "298             1      0              0                 0                 1  \n",
       "299             1      0              0                 1                 0  \n",
       "300             1      0              0                 0                 1  \n",
       "\n",
       "[301 rows x 10 columns]"
      ]
     },
     "execution_count": 96,
     "metadata": {},
     "output_type": "execute_result"
    }
   ],
   "source": [
    "x=df.drop([\"Car_Name\"],axis=1)\n",
    "x"
   ]
  },
  {
   "cell_type": "code",
   "execution_count": 97,
   "id": "d7f13604",
   "metadata": {
    "scrolled": true
   },
   "outputs": [
    {
     "data": {
      "text/html": [
       "<div>\n",
       "<style scoped>\n",
       "    .dataframe tbody tr th:only-of-type {\n",
       "        vertical-align: middle;\n",
       "    }\n",
       "\n",
       "    .dataframe tbody tr th {\n",
       "        vertical-align: top;\n",
       "    }\n",
       "\n",
       "    .dataframe thead th {\n",
       "        text-align: right;\n",
       "    }\n",
       "</style>\n",
       "<table border=\"1\" class=\"dataframe\">\n",
       "  <thead>\n",
       "    <tr style=\"text-align: right;\">\n",
       "      <th></th>\n",
       "      <th>Year</th>\n",
       "      <th>Selling_Price</th>\n",
       "      <th>Present_Price</th>\n",
       "      <th>Kms_Driven</th>\n",
       "      <th>Seller_Type</th>\n",
       "      <th>Transmission</th>\n",
       "      <th>Owner</th>\n",
       "      <th>Fuel_Type_CNG</th>\n",
       "      <th>Fuel_Type_Diesel</th>\n",
       "      <th>Fuel_Type_Petrol</th>\n",
       "    </tr>\n",
       "  </thead>\n",
       "  <tbody>\n",
       "    <tr>\n",
       "      <th>Year</th>\n",
       "      <td>1.000000</td>\n",
       "      <td>0.236141</td>\n",
       "      <td>-0.047584</td>\n",
       "      <td>-0.524342</td>\n",
       "      <td>0.039896</td>\n",
       "      <td>0.000394</td>\n",
       "      <td>-0.182104</td>\n",
       "      <td>-0.017790</td>\n",
       "      <td>0.064315</td>\n",
       "      <td>-0.059959</td>\n",
       "    </tr>\n",
       "    <tr>\n",
       "      <th>Selling_Price</th>\n",
       "      <td>0.236141</td>\n",
       "      <td>1.000000</td>\n",
       "      <td>0.878983</td>\n",
       "      <td>0.029187</td>\n",
       "      <td>0.550724</td>\n",
       "      <td>-0.367128</td>\n",
       "      <td>-0.088344</td>\n",
       "      <td>-0.025164</td>\n",
       "      <td>0.552339</td>\n",
       "      <td>-0.540571</td>\n",
       "    </tr>\n",
       "    <tr>\n",
       "      <th>Present_Price</th>\n",
       "      <td>-0.047584</td>\n",
       "      <td>0.878983</td>\n",
       "      <td>1.000000</td>\n",
       "      <td>0.203647</td>\n",
       "      <td>0.512030</td>\n",
       "      <td>-0.348715</td>\n",
       "      <td>0.008057</td>\n",
       "      <td>-0.011500</td>\n",
       "      <td>0.473306</td>\n",
       "      <td>-0.465244</td>\n",
       "    </tr>\n",
       "    <tr>\n",
       "      <th>Kms_Driven</th>\n",
       "      <td>-0.524342</td>\n",
       "      <td>0.029187</td>\n",
       "      <td>0.203647</td>\n",
       "      <td>1.000000</td>\n",
       "      <td>0.101419</td>\n",
       "      <td>-0.162510</td>\n",
       "      <td>0.089216</td>\n",
       "      <td>0.012223</td>\n",
       "      <td>0.172515</td>\n",
       "      <td>-0.172874</td>\n",
       "    </tr>\n",
       "    <tr>\n",
       "      <th>Seller_Type</th>\n",
       "      <td>0.039896</td>\n",
       "      <td>0.550724</td>\n",
       "      <td>0.512030</td>\n",
       "      <td>0.101419</td>\n",
       "      <td>1.000000</td>\n",
       "      <td>-0.063240</td>\n",
       "      <td>-0.124269</td>\n",
       "      <td>0.060300</td>\n",
       "      <td>0.350467</td>\n",
       "      <td>-0.358321</td>\n",
       "    </tr>\n",
       "    <tr>\n",
       "      <th>Transmission</th>\n",
       "      <td>0.000394</td>\n",
       "      <td>-0.367128</td>\n",
       "      <td>-0.348715</td>\n",
       "      <td>-0.162510</td>\n",
       "      <td>-0.063240</td>\n",
       "      <td>1.000000</td>\n",
       "      <td>-0.050316</td>\n",
       "      <td>0.032018</td>\n",
       "      <td>-0.098643</td>\n",
       "      <td>0.091013</td>\n",
       "    </tr>\n",
       "    <tr>\n",
       "      <th>Owner</th>\n",
       "      <td>-0.182104</td>\n",
       "      <td>-0.088344</td>\n",
       "      <td>0.008057</td>\n",
       "      <td>0.089216</td>\n",
       "      <td>-0.124269</td>\n",
       "      <td>-0.050316</td>\n",
       "      <td>1.000000</td>\n",
       "      <td>-0.014272</td>\n",
       "      <td>-0.053469</td>\n",
       "      <td>0.055687</td>\n",
       "    </tr>\n",
       "    <tr>\n",
       "      <th>Fuel_Type_CNG</th>\n",
       "      <td>-0.017790</td>\n",
       "      <td>-0.025164</td>\n",
       "      <td>-0.011500</td>\n",
       "      <td>0.012223</td>\n",
       "      <td>0.060300</td>\n",
       "      <td>0.032018</td>\n",
       "      <td>-0.014272</td>\n",
       "      <td>1.000000</td>\n",
       "      <td>-0.040808</td>\n",
       "      <td>-0.160577</td>\n",
       "    </tr>\n",
       "    <tr>\n",
       "      <th>Fuel_Type_Diesel</th>\n",
       "      <td>0.064315</td>\n",
       "      <td>0.552339</td>\n",
       "      <td>0.473306</td>\n",
       "      <td>0.172515</td>\n",
       "      <td>0.350467</td>\n",
       "      <td>-0.098643</td>\n",
       "      <td>-0.053469</td>\n",
       "      <td>-0.040808</td>\n",
       "      <td>1.000000</td>\n",
       "      <td>-0.979648</td>\n",
       "    </tr>\n",
       "    <tr>\n",
       "      <th>Fuel_Type_Petrol</th>\n",
       "      <td>-0.059959</td>\n",
       "      <td>-0.540571</td>\n",
       "      <td>-0.465244</td>\n",
       "      <td>-0.172874</td>\n",
       "      <td>-0.358321</td>\n",
       "      <td>0.091013</td>\n",
       "      <td>0.055687</td>\n",
       "      <td>-0.160577</td>\n",
       "      <td>-0.979648</td>\n",
       "      <td>1.000000</td>\n",
       "    </tr>\n",
       "  </tbody>\n",
       "</table>\n",
       "</div>"
      ],
      "text/plain": [
       "                      Year  Selling_Price  Present_Price  Kms_Driven   \n",
       "Year              1.000000       0.236141      -0.047584   -0.524342  \\\n",
       "Selling_Price     0.236141       1.000000       0.878983    0.029187   \n",
       "Present_Price    -0.047584       0.878983       1.000000    0.203647   \n",
       "Kms_Driven       -0.524342       0.029187       0.203647    1.000000   \n",
       "Seller_Type       0.039896       0.550724       0.512030    0.101419   \n",
       "Transmission      0.000394      -0.367128      -0.348715   -0.162510   \n",
       "Owner            -0.182104      -0.088344       0.008057    0.089216   \n",
       "Fuel_Type_CNG    -0.017790      -0.025164      -0.011500    0.012223   \n",
       "Fuel_Type_Diesel  0.064315       0.552339       0.473306    0.172515   \n",
       "Fuel_Type_Petrol -0.059959      -0.540571      -0.465244   -0.172874   \n",
       "\n",
       "                  Seller_Type  Transmission     Owner  Fuel_Type_CNG   \n",
       "Year                 0.039896      0.000394 -0.182104      -0.017790  \\\n",
       "Selling_Price        0.550724     -0.367128 -0.088344      -0.025164   \n",
       "Present_Price        0.512030     -0.348715  0.008057      -0.011500   \n",
       "Kms_Driven           0.101419     -0.162510  0.089216       0.012223   \n",
       "Seller_Type          1.000000     -0.063240 -0.124269       0.060300   \n",
       "Transmission        -0.063240      1.000000 -0.050316       0.032018   \n",
       "Owner               -0.124269     -0.050316  1.000000      -0.014272   \n",
       "Fuel_Type_CNG        0.060300      0.032018 -0.014272       1.000000   \n",
       "Fuel_Type_Diesel     0.350467     -0.098643 -0.053469      -0.040808   \n",
       "Fuel_Type_Petrol    -0.358321      0.091013  0.055687      -0.160577   \n",
       "\n",
       "                  Fuel_Type_Diesel  Fuel_Type_Petrol  \n",
       "Year                      0.064315         -0.059959  \n",
       "Selling_Price             0.552339         -0.540571  \n",
       "Present_Price             0.473306         -0.465244  \n",
       "Kms_Driven                0.172515         -0.172874  \n",
       "Seller_Type               0.350467         -0.358321  \n",
       "Transmission             -0.098643          0.091013  \n",
       "Owner                    -0.053469          0.055687  \n",
       "Fuel_Type_CNG            -0.040808         -0.160577  \n",
       "Fuel_Type_Diesel          1.000000         -0.979648  \n",
       "Fuel_Type_Petrol         -0.979648          1.000000  "
      ]
     },
     "execution_count": 97,
     "metadata": {},
     "output_type": "execute_result"
    }
   ],
   "source": [
    "x.corr()"
   ]
  },
  {
   "cell_type": "code",
   "execution_count": 98,
   "id": "fe2e8eb2",
   "metadata": {},
   "outputs": [
    {
     "data": {
      "text/plain": [
       "<Axes: >"
      ]
     },
     "execution_count": 98,
     "metadata": {},
     "output_type": "execute_result"
    },
    {
     "data": {
      "image/png": "[encoded data removed]",
      "text/plain": [
       "<Figure size 2000x1500 with 2 Axes>"
      ]
     },
     "metadata": {},
     "output_type": "display_data"
    }
   ],
   "source": [
    "plt.figure(figsize = (20,15))\n",
    "sns.heatmap(x.corr(), annot = True)"
   ]
  },
  {
   "cell_type": "code",
   "execution_count": 99,
   "id": "4ba3e5aa",
   "metadata": {},
   "outputs": [
    {
     "data": {
      "text/plain": [
       "<Axes: >"
      ]
     },
     "execution_count": 99,
     "metadata": {},
     "output_type": "execute_result"
    },
    {
     "data": {
      "image/png": "[encoded data removed]",
      "text/plain": [
       "<Figure size 2000x200 with 2 Axes>"
      ]
     },
     "metadata": {},
     "output_type": "display_data"
    }
   ],
   "source": [
    "plt.figure(figsize = (20,2))\n",
    "sns.heatmap(x.corr().iloc[1:2], annot = True)"
   ]
  },
  {
   "cell_type": "markdown",
   "id": "fb859894",
   "metadata": {},
   "source": [
    "#### 5.2 VIF (No Multicolliarity)"
   ]
  },
  {
   "cell_type": "code",
   "execution_count": 101,
   "id": "a6bd5f99",
   "metadata": {
    "scrolled": true
   },
   "outputs": [],
   "source": [
    "x=df.drop([\"Selling_Price\",\"Car_Name\"],axis=1)\n",
    "y=df[\"Selling_Price\"]"
   ]
  },
  {
   "cell_type": "code",
   "execution_count": 102,
   "id": "7e3ed431",
   "metadata": {},
   "outputs": [
    {
     "data": {
      "text/plain": [
       "2"
      ]
     },
     "execution_count": 102,
     "metadata": {},
     "output_type": "execute_result"
    }
   ],
   "source": [
    "array=x.values   # >>to_numpy\n",
    "array.ndim"
   ]
  },
  {
   "cell_type": "code",
   "execution_count": 103,
   "id": "18537aba",
   "metadata": {},
   "outputs": [
    {
     "data": {
      "text/plain": [
       "1.4823467547289384"
      ]
     },
     "execution_count": 103,
     "metadata": {},
     "output_type": "execute_result"
    }
   ],
   "source": [
    "variance_inflation_factor(array,0)"
   ]
  },
  {
   "cell_type": "code",
   "execution_count": 104,
   "id": "9114a4c5",
   "metadata": {},
   "outputs": [
    {
     "data": {
      "text/plain": [
       "1.8369267328238554"
      ]
     },
     "execution_count": 104,
     "metadata": {},
     "output_type": "execute_result"
    }
   ],
   "source": [
    "variance_inflation_factor(array,1)"
   ]
  },
  {
   "cell_type": "code",
   "execution_count": 105,
   "id": "f8e4405a",
   "metadata": {},
   "outputs": [
    {
     "data": {
      "text/plain": [
       "9"
      ]
     },
     "execution_count": 105,
     "metadata": {},
     "output_type": "execute_result"
    }
   ],
   "source": [
    "x.shape[1]"
   ]
  },
  {
   "cell_type": "code",
   "execution_count": 106,
   "id": "b3d4b13f",
   "metadata": {},
   "outputs": [
    {
     "data": {
      "text/plain": [
       "Index(['Year', 'Present_Price', 'Kms_Driven', 'Seller_Type', 'Transmission',\n",
       "       'Owner', 'Fuel_Type_CNG', 'Fuel_Type_Diesel', 'Fuel_Type_Petrol'],\n",
       "      dtype='object')"
      ]
     },
     "execution_count": 106,
     "metadata": {},
     "output_type": "execute_result"
    }
   ],
   "source": [
    "x.columns"
   ]
  },
  {
   "cell_type": "code",
   "execution_count": 107,
   "id": "08fdc8a0",
   "metadata": {},
   "outputs": [
    {
     "data": {
      "text/plain": [
       "Year                     1.482347\n",
       "Present_Price            1.836927\n",
       "Kms_Driven               1.517916\n",
       "Seller_Type              1.449644\n",
       "Transmission             1.196263\n",
       "Owner                    1.056734\n",
       "Fuel_Type_CNG         4802.039004\n",
       "Fuel_Type_Diesel    144232.562611\n",
       "Fuel_Type_Petrol    573872.238016\n",
       "dtype: float64"
      ]
     },
     "execution_count": 107,
     "metadata": {},
     "output_type": "execute_result"
    }
   ],
   "source": [
    "vif_list=[]\n",
    "\n",
    "for i in range (x.shape[1]):\n",
    "    vif=variance_inflation_factor(array,i)\n",
    "    vif_list.append(vif)\n",
    "\n",
    "    \n",
    "vif_values = pd.Series(vif_list, index = x.columns)\n",
    "vif_values"
   ]
  },
  {
   "cell_type": "code",
   "execution_count": 108,
   "id": "bcd79fa2",
   "metadata": {},
   "outputs": [
    {
     "data": {
      "text/plain": [
       "<Axes: >"
      ]
     },
     "execution_count": 108,
     "metadata": {},
     "output_type": "execute_result"
    },
    {
     "data": {
      "image/png": "[encoded data removed]",
      "text/plain": [
       "<Figure size 500x300 with 1 Axes>"
      ]
     },
     "metadata": {},
     "output_type": "display_data"
    }
   ],
   "source": [
    "plt.figure(figsize = (5,3))\n",
    "vif_values.sort_values().plot(kind=\"bar\")"
   ]
  },
  {
   "cell_type": "markdown",
   "id": "87b85645",
   "metadata": {},
   "source": [
    "### 6. Model Training"
   ]
  },
  {
   "cell_type": "code",
   "execution_count": 109,
   "id": "423cea68",
   "metadata": {},
   "outputs": [],
   "source": [
    "x=df.drop([\"Selling_Price\",\"Car_Name\"],axis=1)\n",
    "y=df[\"Selling_Price\"]"
   ]
  },
  {
   "cell_type": "markdown",
   "id": "bd9e6dd9",
   "metadata": {},
   "source": [
    "#### train test split"
   ]
  },
  {
   "cell_type": "code",
   "execution_count": 110,
   "id": "bb232943",
   "metadata": {},
   "outputs": [],
   "source": [
    "x_train,x_test,y_train,y_test=train_test_split(x,y,test_size=0.2,random_state=11)"
   ]
  },
  {
   "cell_type": "code",
   "execution_count": 111,
   "id": "21bf31c0",
   "metadata": {},
   "outputs": [
    {
     "data": {
      "text/html": [
       "<div>\n",
       "<style scoped>\n",
       "    .dataframe tbody tr th:only-of-type {\n",
       "        vertical-align: middle;\n",
       "    }\n",
       "\n",
       "    .dataframe tbody tr th {\n",
       "        vertical-align: top;\n",
       "    }\n",
       "\n",
       "    .dataframe thead th {\n",
       "        text-align: right;\n",
       "    }\n",
       "</style>\n",
       "<table border=\"1\" class=\"dataframe\">\n",
       "  <thead>\n",
       "    <tr style=\"text-align: right;\">\n",
       "      <th></th>\n",
       "      <th>Year</th>\n",
       "      <th>Present_Price</th>\n",
       "      <th>Kms_Driven</th>\n",
       "      <th>Seller_Type</th>\n",
       "      <th>Transmission</th>\n",
       "      <th>Owner</th>\n",
       "      <th>Fuel_Type_CNG</th>\n",
       "      <th>Fuel_Type_Diesel</th>\n",
       "      <th>Fuel_Type_Petrol</th>\n",
       "    </tr>\n",
       "  </thead>\n",
       "  <tbody>\n",
       "    <tr>\n",
       "      <th>150</th>\n",
       "      <td>2011</td>\n",
       "      <td>0.826</td>\n",
       "      <td>6000</td>\n",
       "      <td>0</td>\n",
       "      <td>1</td>\n",
       "      <td>0</td>\n",
       "      <td>0</td>\n",
       "      <td>0</td>\n",
       "      <td>1</td>\n",
       "    </tr>\n",
       "    <tr>\n",
       "      <th>12</th>\n",
       "      <td>2015</td>\n",
       "      <td>9.940</td>\n",
       "      <td>15000</td>\n",
       "      <td>1</td>\n",
       "      <td>0</td>\n",
       "      <td>0</td>\n",
       "      <td>0</td>\n",
       "      <td>0</td>\n",
       "      <td>1</td>\n",
       "    </tr>\n",
       "    <tr>\n",
       "      <th>294</th>\n",
       "      <td>2014</td>\n",
       "      <td>6.800</td>\n",
       "      <td>33019</td>\n",
       "      <td>1</td>\n",
       "      <td>1</td>\n",
       "      <td>0</td>\n",
       "      <td>0</td>\n",
       "      <td>0</td>\n",
       "      <td>1</td>\n",
       "    </tr>\n",
       "    <tr>\n",
       "      <th>295</th>\n",
       "      <td>2015</td>\n",
       "      <td>13.090</td>\n",
       "      <td>60076</td>\n",
       "      <td>1</td>\n",
       "      <td>1</td>\n",
       "      <td>0</td>\n",
       "      <td>0</td>\n",
       "      <td>1</td>\n",
       "      <td>0</td>\n",
       "    </tr>\n",
       "    <tr>\n",
       "      <th>60</th>\n",
       "      <td>2013</td>\n",
       "      <td>18.610</td>\n",
       "      <td>40001</td>\n",
       "      <td>1</td>\n",
       "      <td>1</td>\n",
       "      <td>0</td>\n",
       "      <td>0</td>\n",
       "      <td>0</td>\n",
       "      <td>1</td>\n",
       "    </tr>\n",
       "    <tr>\n",
       "      <th>...</th>\n",
       "      <td>...</td>\n",
       "      <td>...</td>\n",
       "      <td>...</td>\n",
       "      <td>...</td>\n",
       "      <td>...</td>\n",
       "      <td>...</td>\n",
       "      <td>...</td>\n",
       "      <td>...</td>\n",
       "      <td>...</td>\n",
       "    </tr>\n",
       "    <tr>\n",
       "      <th>212</th>\n",
       "      <td>2016</td>\n",
       "      <td>13.600</td>\n",
       "      <td>22671</td>\n",
       "      <td>1</td>\n",
       "      <td>1</td>\n",
       "      <td>0</td>\n",
       "      <td>0</td>\n",
       "      <td>0</td>\n",
       "      <td>1</td>\n",
       "    </tr>\n",
       "    <tr>\n",
       "      <th>262</th>\n",
       "      <td>2015</td>\n",
       "      <td>5.800</td>\n",
       "      <td>40023</td>\n",
       "      <td>1</td>\n",
       "      <td>1</td>\n",
       "      <td>0</td>\n",
       "      <td>0</td>\n",
       "      <td>0</td>\n",
       "      <td>1</td>\n",
       "    </tr>\n",
       "    <tr>\n",
       "      <th>70</th>\n",
       "      <td>2014</td>\n",
       "      <td>6.760</td>\n",
       "      <td>71000</td>\n",
       "      <td>1</td>\n",
       "      <td>1</td>\n",
       "      <td>0</td>\n",
       "      <td>0</td>\n",
       "      <td>1</td>\n",
       "      <td>0</td>\n",
       "    </tr>\n",
       "    <tr>\n",
       "      <th>202</th>\n",
       "      <td>2015</td>\n",
       "      <td>5.700</td>\n",
       "      <td>28200</td>\n",
       "      <td>1</td>\n",
       "      <td>1</td>\n",
       "      <td>0</td>\n",
       "      <td>0</td>\n",
       "      <td>0</td>\n",
       "      <td>1</td>\n",
       "    </tr>\n",
       "    <tr>\n",
       "      <th>170</th>\n",
       "      <td>2012</td>\n",
       "      <td>0.830</td>\n",
       "      <td>5500</td>\n",
       "      <td>0</td>\n",
       "      <td>1</td>\n",
       "      <td>0</td>\n",
       "      <td>0</td>\n",
       "      <td>0</td>\n",
       "      <td>1</td>\n",
       "    </tr>\n",
       "  </tbody>\n",
       "</table>\n",
       "<p>61 rows × 9 columns</p>\n",
       "</div>"
      ],
      "text/plain": [
       "     Year  Present_Price  Kms_Driven  Seller_Type  Transmission  Owner   \n",
       "150  2011          0.826        6000            0             1      0  \\\n",
       "12   2015          9.940       15000            1             0      0   \n",
       "294  2014          6.800       33019            1             1      0   \n",
       "295  2015         13.090       60076            1             1      0   \n",
       "60   2013         18.610       40001            1             1      0   \n",
       "..    ...            ...         ...          ...           ...    ...   \n",
       "212  2016         13.600       22671            1             1      0   \n",
       "262  2015          5.800       40023            1             1      0   \n",
       "70   2014          6.760       71000            1             1      0   \n",
       "202  2015          5.700       28200            1             1      0   \n",
       "170  2012          0.830        5500            0             1      0   \n",
       "\n",
       "     Fuel_Type_CNG  Fuel_Type_Diesel  Fuel_Type_Petrol  \n",
       "150              0                 0                 1  \n",
       "12               0                 0                 1  \n",
       "294              0                 0                 1  \n",
       "295              0                 1                 0  \n",
       "60               0                 0                 1  \n",
       "..             ...               ...               ...  \n",
       "212              0                 0                 1  \n",
       "262              0                 0                 1  \n",
       "70               0                 1                 0  \n",
       "202              0                 0                 1  \n",
       "170              0                 0                 1  \n",
       "\n",
       "[61 rows x 9 columns]"
      ]
     },
     "execution_count": 111,
     "metadata": {},
     "output_type": "execute_result"
    }
   ],
   "source": [
    "x_test"
   ]
  },
  {
   "cell_type": "code",
   "execution_count": 112,
   "id": "b278ecf1",
   "metadata": {},
   "outputs": [
    {
     "data": {
      "text/plain": [
       "150     0.50\n",
       "12      7.50\n",
       "294     3.75\n",
       "295     8.55\n",
       "60      6.95\n",
       "       ...  \n",
       "212    11.25\n",
       "262     4.00\n",
       "70      3.95\n",
       "202     4.40\n",
       "170     0.40\n",
       "Name: Selling_Price, Length: 61, dtype: float64"
      ]
     },
     "execution_count": 112,
     "metadata": {},
     "output_type": "execute_result"
    }
   ],
   "source": [
    "y_test"
   ]
  },
  {
   "cell_type": "code",
   "execution_count": 113,
   "id": "48e6226b",
   "metadata": {},
   "outputs": [
    {
     "data": {
      "text/html": [
       "<div>\n",
       "<style scoped>\n",
       "    .dataframe tbody tr th:only-of-type {\n",
       "        vertical-align: middle;\n",
       "    }\n",
       "\n",
       "    .dataframe tbody tr th {\n",
       "        vertical-align: top;\n",
       "    }\n",
       "\n",
       "    .dataframe thead th {\n",
       "        text-align: right;\n",
       "    }\n",
       "</style>\n",
       "<table border=\"1\" class=\"dataframe\">\n",
       "  <thead>\n",
       "    <tr style=\"text-align: right;\">\n",
       "      <th></th>\n",
       "      <th>Year</th>\n",
       "      <th>Present_Price</th>\n",
       "      <th>Kms_Driven</th>\n",
       "      <th>Seller_Type</th>\n",
       "      <th>Transmission</th>\n",
       "      <th>Owner</th>\n",
       "      <th>Fuel_Type_CNG</th>\n",
       "      <th>Fuel_Type_Diesel</th>\n",
       "      <th>Fuel_Type_Petrol</th>\n",
       "    </tr>\n",
       "  </thead>\n",
       "  <tbody>\n",
       "    <tr>\n",
       "      <th>159</th>\n",
       "      <td>2017</td>\n",
       "      <td>0.510</td>\n",
       "      <td>4000</td>\n",
       "      <td>0</td>\n",
       "      <td>0</td>\n",
       "      <td>0</td>\n",
       "      <td>0</td>\n",
       "      <td>0</td>\n",
       "      <td>1</td>\n",
       "    </tr>\n",
       "    <tr>\n",
       "      <th>44</th>\n",
       "      <td>2012</td>\n",
       "      <td>2.690</td>\n",
       "      <td>50000</td>\n",
       "      <td>1</td>\n",
       "      <td>1</td>\n",
       "      <td>0</td>\n",
       "      <td>0</td>\n",
       "      <td>0</td>\n",
       "      <td>1</td>\n",
       "    </tr>\n",
       "    <tr>\n",
       "      <th>254</th>\n",
       "      <td>2013</td>\n",
       "      <td>9.900</td>\n",
       "      <td>54242</td>\n",
       "      <td>1</td>\n",
       "      <td>1</td>\n",
       "      <td>0</td>\n",
       "      <td>0</td>\n",
       "      <td>0</td>\n",
       "      <td>1</td>\n",
       "    </tr>\n",
       "    <tr>\n",
       "      <th>97</th>\n",
       "      <td>2017</td>\n",
       "      <td>18.640</td>\n",
       "      <td>8700</td>\n",
       "      <td>1</td>\n",
       "      <td>1</td>\n",
       "      <td>0</td>\n",
       "      <td>0</td>\n",
       "      <td>0</td>\n",
       "      <td>1</td>\n",
       "    </tr>\n",
       "    <tr>\n",
       "      <th>123</th>\n",
       "      <td>2013</td>\n",
       "      <td>1.470</td>\n",
       "      <td>46500</td>\n",
       "      <td>0</td>\n",
       "      <td>1</td>\n",
       "      <td>0</td>\n",
       "      <td>0</td>\n",
       "      <td>0</td>\n",
       "      <td>1</td>\n",
       "    </tr>\n",
       "    <tr>\n",
       "      <th>...</th>\n",
       "      <td>...</td>\n",
       "      <td>...</td>\n",
       "      <td>...</td>\n",
       "      <td>...</td>\n",
       "      <td>...</td>\n",
       "      <td>...</td>\n",
       "      <td>...</td>\n",
       "      <td>...</td>\n",
       "      <td>...</td>\n",
       "    </tr>\n",
       "    <tr>\n",
       "      <th>161</th>\n",
       "      <td>2014</td>\n",
       "      <td>0.826</td>\n",
       "      <td>23000</td>\n",
       "      <td>0</td>\n",
       "      <td>1</td>\n",
       "      <td>0</td>\n",
       "      <td>0</td>\n",
       "      <td>0</td>\n",
       "      <td>1</td>\n",
       "    </tr>\n",
       "    <tr>\n",
       "      <th>269</th>\n",
       "      <td>2015</td>\n",
       "      <td>10.000</td>\n",
       "      <td>18828</td>\n",
       "      <td>1</td>\n",
       "      <td>1</td>\n",
       "      <td>0</td>\n",
       "      <td>0</td>\n",
       "      <td>0</td>\n",
       "      <td>1</td>\n",
       "    </tr>\n",
       "    <tr>\n",
       "      <th>91</th>\n",
       "      <td>2014</td>\n",
       "      <td>16.090</td>\n",
       "      <td>58242</td>\n",
       "      <td>1</td>\n",
       "      <td>1</td>\n",
       "      <td>0</td>\n",
       "      <td>0</td>\n",
       "      <td>1</td>\n",
       "      <td>0</td>\n",
       "    </tr>\n",
       "    <tr>\n",
       "      <th>80</th>\n",
       "      <td>2016</td>\n",
       "      <td>14.890</td>\n",
       "      <td>23000</td>\n",
       "      <td>1</td>\n",
       "      <td>1</td>\n",
       "      <td>0</td>\n",
       "      <td>0</td>\n",
       "      <td>1</td>\n",
       "      <td>0</td>\n",
       "    </tr>\n",
       "    <tr>\n",
       "      <th>191</th>\n",
       "      <td>2012</td>\n",
       "      <td>0.570</td>\n",
       "      <td>25000</td>\n",
       "      <td>0</td>\n",
       "      <td>1</td>\n",
       "      <td>1</td>\n",
       "      <td>0</td>\n",
       "      <td>0</td>\n",
       "      <td>1</td>\n",
       "    </tr>\n",
       "  </tbody>\n",
       "</table>\n",
       "<p>240 rows × 9 columns</p>\n",
       "</div>"
      ],
      "text/plain": [
       "     Year  Present_Price  Kms_Driven  Seller_Type  Transmission  Owner   \n",
       "159  2017          0.510        4000            0             0      0  \\\n",
       "44   2012          2.690       50000            1             1      0   \n",
       "254  2013          9.900       54242            1             1      0   \n",
       "97   2017         18.640        8700            1             1      0   \n",
       "123  2013          1.470       46500            0             1      0   \n",
       "..    ...            ...         ...          ...           ...    ...   \n",
       "161  2014          0.826       23000            0             1      0   \n",
       "269  2015         10.000       18828            1             1      0   \n",
       "91   2014         16.090       58242            1             1      0   \n",
       "80   2016         14.890       23000            1             1      0   \n",
       "191  2012          0.570       25000            0             1      1   \n",
       "\n",
       "     Fuel_Type_CNG  Fuel_Type_Diesel  Fuel_Type_Petrol  \n",
       "159              0                 0                 1  \n",
       "44               0                 0                 1  \n",
       "254              0                 0                 1  \n",
       "97               0                 0                 1  \n",
       "123              0                 0                 1  \n",
       "..             ...               ...               ...  \n",
       "161              0                 0                 1  \n",
       "269              0                 0                 1  \n",
       "91               0                 1                 0  \n",
       "80               0                 1                 0  \n",
       "191              0                 0                 1  \n",
       "\n",
       "[240 rows x 9 columns]"
      ]
     },
     "execution_count": 113,
     "metadata": {},
     "output_type": "execute_result"
    }
   ],
   "source": [
    "x_train"
   ]
  },
  {
   "cell_type": "code",
   "execution_count": 114,
   "id": "e4de042e",
   "metadata": {},
   "outputs": [
    {
     "data": {
      "text/plain": [
       "159     0.45\n",
       "44      1.25\n",
       "254     5.25\n",
       "97     17.00\n",
       "123     1.00\n",
       "       ...  \n",
       "161     0.45\n",
       "269     6.70\n",
       "91     11.25\n",
       "80     14.73\n",
       "191     0.20\n",
       "Name: Selling_Price, Length: 240, dtype: float64"
      ]
     },
     "execution_count": 114,
     "metadata": {},
     "output_type": "execute_result"
    }
   ],
   "source": [
    "y_train"
   ]
  },
  {
   "cell_type": "markdown",
   "id": "06b7be7f",
   "metadata": {},
   "source": [
    "### Instantiating linear reg model"
   ]
  },
  {
   "cell_type": "code",
   "execution_count": 115,
   "id": "58ef88fc",
   "metadata": {},
   "outputs": [
    {
     "data": {
      "text/html": [
       "<style>#sk-container-id-3 {color: black;background-color: white;}#sk-container-id-3 pre{padding: 0;}#sk-container-id-3 div.sk-toggleable {background-color: white;}#sk-container-id-3 label.sk-toggleable__label {cursor: pointer;display: block;width: 100%;margin-bottom: 0;padding: 0.3em;box-sizing: border-box;text-align: center;}#sk-container-id-3 label.sk-toggleable__label-arrow:before {content: \"▸\";float: left;margin-right: 0.25em;color: #696969;}#sk-container-id-3 label.sk-toggleable__label-arrow:hover:before {color: black;}#sk-container-id-3 div.sk-estimator:hover label.sk-toggleable__label-arrow:before {color: black;}#sk-container-id-3 div.sk-toggleable__content {max-height: 0;max-width: 0;overflow: hidden;text-align: left;background-color: #f0f8ff;}#sk-container-id-3 div.sk-toggleable__content pre {margin: 0.2em;color: black;border-radius: 0.25em;background-color: #f0f8ff;}#sk-container-id-3 input.sk-toggleable__control:checked~div.sk-toggleable__content {max-height: 200px;max-width: 100%;overflow: auto;}#sk-container-id-3 input.sk-toggleable__control:checked~label.sk-toggleable__label-arrow:before {content: \"▾\";}#sk-container-id-3 div.sk-estimator input.sk-toggleable__control:checked~label.sk-toggleable__label {background-color: #d4ebff;}#sk-container-id-3 div.sk-label input.sk-toggleable__control:checked~label.sk-toggleable__label {background-color: #d4ebff;}#sk-container-id-3 input.sk-hidden--visually {border: 0;clip: rect(1px 1px 1px 1px);clip: rect(1px, 1px, 1px, 1px);height: 1px;margin: -1px;overflow: hidden;padding: 0;position: absolute;width: 1px;}#sk-container-id-3 div.sk-estimator {font-family: monospace;background-color: #f0f8ff;border: 1px dotted black;border-radius: 0.25em;box-sizing: border-box;margin-bottom: 0.5em;}#sk-container-id-3 div.sk-estimator:hover {background-color: #d4ebff;}#sk-container-id-3 div.sk-parallel-item::after {content: \"\";width: 100%;border-bottom: 1px solid gray;flex-grow: 1;}#sk-container-id-3 div.sk-label:hover label.sk-toggleable__label {background-color: #d4ebff;}#sk-container-id-3 div.sk-serial::before {content: \"\";position: absolute;border-left: 1px solid gray;box-sizing: border-box;top: 0;bottom: 0;left: 50%;z-index: 0;}#sk-container-id-3 div.sk-serial {display: flex;flex-direction: column;align-items: center;background-color: white;padding-right: 0.2em;padding-left: 0.2em;position: relative;}#sk-container-id-3 div.sk-item {position: relative;z-index: 1;}#sk-container-id-3 div.sk-parallel {display: flex;align-items: stretch;justify-content: center;background-color: white;position: relative;}#sk-container-id-3 div.sk-item::before, #sk-container-id-3 div.sk-parallel-item::before {content: \"\";position: absolute;border-left: 1px solid gray;box-sizing: border-box;top: 0;bottom: 0;left: 50%;z-index: -1;}#sk-container-id-3 div.sk-parallel-item {display: flex;flex-direction: column;z-index: 1;position: relative;background-color: white;}#sk-container-id-3 div.sk-parallel-item:first-child::after {align-self: flex-end;width: 50%;}#sk-container-id-3 div.sk-parallel-item:last-child::after {align-self: flex-start;width: 50%;}#sk-container-id-3 div.sk-parallel-item:only-child::after {width: 0;}#sk-container-id-3 div.sk-dashed-wrapped {border: 1px dashed gray;margin: 0 0.4em 0.5em 0.4em;box-sizing: border-box;padding-bottom: 0.4em;background-color: white;}#sk-container-id-3 div.sk-label label {font-family: monospace;font-weight: bold;display: inline-block;line-height: 1.2em;}#sk-container-id-3 div.sk-label-container {text-align: center;}#sk-container-id-3 div.sk-container {/* jupyter's `normalize.less` sets `[hidden] { display: none; }` but bootstrap.min.css set `[hidden] { display: none !important; }` so we also need the `!important` here to be able to override the default hidden behavior on the sphinx rendered scikit-learn.org. See: https://github.com/scikit-learn/scikit-learn/issues/21755 */display: inline-block !important;position: relative;}#sk-container-id-3 div.sk-text-repr-fallback {display: none;}</style><div id=\"sk-container-id-3\" class=\"sk-top-container\"><div class=\"sk-text-repr-fallback\"><pre>LinearRegression()</pre><b>In a Jupyter environment, please rerun this cell to show the HTML representation or trust the notebook. <br />On GitHub, the HTML representation is unable to render, please try loading this page with nbviewer.org.</b></div><div class=\"sk-container\" hidden><div class=\"sk-item\"><div class=\"sk-estimator sk-toggleable\"><input class=\"sk-toggleable__control sk-hidden--visually\" id=\"sk-estimator-id-3\" type=\"checkbox\" checked><label for=\"sk-estimator-id-3\" class=\"sk-toggleable__label sk-toggleable__label-arrow\">LinearRegression</label><div class=\"sk-toggleable__content\"><pre>LinearRegression()</pre></div></div></div></div></div>"
      ],
      "text/plain": [
       "LinearRegression()"
      ]
     },
     "execution_count": 115,
     "metadata": {},
     "output_type": "execute_result"
    }
   ],
   "source": [
    "liner_reg=LinearRegression()\n",
    "liner_reg"
   ]
  },
  {
   "cell_type": "code",
   "execution_count": 116,
   "id": "afd35c61",
   "metadata": {},
   "outputs": [
    {
     "data": {
      "text/html": [
       "<style>#sk-container-id-4 {color: black;background-color: white;}#sk-container-id-4 pre{padding: 0;}#sk-container-id-4 div.sk-toggleable {background-color: white;}#sk-container-id-4 label.sk-toggleable__label {cursor: pointer;display: block;width: 100%;margin-bottom: 0;padding: 0.3em;box-sizing: border-box;text-align: center;}#sk-container-id-4 label.sk-toggleable__label-arrow:before {content: \"▸\";float: left;margin-right: 0.25em;color: #696969;}#sk-container-id-4 label.sk-toggleable__label-arrow:hover:before {color: black;}#sk-container-id-4 div.sk-estimator:hover label.sk-toggleable__label-arrow:before {color: black;}#sk-container-id-4 div.sk-toggleable__content {max-height: 0;max-width: 0;overflow: hidden;text-align: left;background-color: #f0f8ff;}#sk-container-id-4 div.sk-toggleable__content pre {margin: 0.2em;color: black;border-radius: 0.25em;background-color: #f0f8ff;}#sk-container-id-4 input.sk-toggleable__control:checked~div.sk-toggleable__content {max-height: 200px;max-width: 100%;overflow: auto;}#sk-container-id-4 input.sk-toggleable__control:checked~label.sk-toggleable__label-arrow:before {content: \"▾\";}#sk-container-id-4 div.sk-estimator input.sk-toggleable__control:checked~label.sk-toggleable__label {background-color: #d4ebff;}#sk-container-id-4 div.sk-label input.sk-toggleable__control:checked~label.sk-toggleable__label {background-color: #d4ebff;}#sk-container-id-4 input.sk-hidden--visually {border: 0;clip: rect(1px 1px 1px 1px);clip: rect(1px, 1px, 1px, 1px);height: 1px;margin: -1px;overflow: hidden;padding: 0;position: absolute;width: 1px;}#sk-container-id-4 div.sk-estimator {font-family: monospace;background-color: #f0f8ff;border: 1px dotted black;border-radius: 0.25em;box-sizing: border-box;margin-bottom: 0.5em;}#sk-container-id-4 div.sk-estimator:hover {background-color: #d4ebff;}#sk-container-id-4 div.sk-parallel-item::after {content: \"\";width: 100%;border-bottom: 1px solid gray;flex-grow: 1;}#sk-container-id-4 div.sk-label:hover label.sk-toggleable__label {background-color: #d4ebff;}#sk-container-id-4 div.sk-serial::before {content: \"\";position: absolute;border-left: 1px solid gray;box-sizing: border-box;top: 0;bottom: 0;left: 50%;z-index: 0;}#sk-container-id-4 div.sk-serial {display: flex;flex-direction: column;align-items: center;background-color: white;padding-right: 0.2em;padding-left: 0.2em;position: relative;}#sk-container-id-4 div.sk-item {position: relative;z-index: 1;}#sk-container-id-4 div.sk-parallel {display: flex;align-items: stretch;justify-content: center;background-color: white;position: relative;}#sk-container-id-4 div.sk-item::before, #sk-container-id-4 div.sk-parallel-item::before {content: \"\";position: absolute;border-left: 1px solid gray;box-sizing: border-box;top: 0;bottom: 0;left: 50%;z-index: -1;}#sk-container-id-4 div.sk-parallel-item {display: flex;flex-direction: column;z-index: 1;position: relative;background-color: white;}#sk-container-id-4 div.sk-parallel-item:first-child::after {align-self: flex-end;width: 50%;}#sk-container-id-4 div.sk-parallel-item:last-child::after {align-self: flex-start;width: 50%;}#sk-container-id-4 div.sk-parallel-item:only-child::after {width: 0;}#sk-container-id-4 div.sk-dashed-wrapped {border: 1px dashed gray;margin: 0 0.4em 0.5em 0.4em;box-sizing: border-box;padding-bottom: 0.4em;background-color: white;}#sk-container-id-4 div.sk-label label {font-family: monospace;font-weight: bold;display: inline-block;line-height: 1.2em;}#sk-container-id-4 div.sk-label-container {text-align: center;}#sk-container-id-4 div.sk-container {/* jupyter's `normalize.less` sets `[hidden] { display: none; }` but bootstrap.min.css set `[hidden] { display: none !important; }` so we also need the `!important` here to be able to override the default hidden behavior on the sphinx rendered scikit-learn.org. See: https://github.com/scikit-learn/scikit-learn/issues/21755 */display: inline-block !important;position: relative;}#sk-container-id-4 div.sk-text-repr-fallback {display: none;}</style><div id=\"sk-container-id-4\" class=\"sk-top-container\"><div class=\"sk-text-repr-fallback\"><pre>LinearRegression()</pre><b>In a Jupyter environment, please rerun this cell to show the HTML representation or trust the notebook. <br />On GitHub, the HTML representation is unable to render, please try loading this page with nbviewer.org.</b></div><div class=\"sk-container\" hidden><div class=\"sk-item\"><div class=\"sk-estimator sk-toggleable\"><input class=\"sk-toggleable__control sk-hidden--visually\" id=\"sk-estimator-id-4\" type=\"checkbox\" checked><label for=\"sk-estimator-id-4\" class=\"sk-toggleable__label sk-toggleable__label-arrow\">LinearRegression</label><div class=\"sk-toggleable__content\"><pre>LinearRegression()</pre></div></div></div></div></div>"
      ],
      "text/plain": [
       "LinearRegression()"
      ]
     },
     "execution_count": 116,
     "metadata": {},
     "output_type": "execute_result"
    }
   ],
   "source": [
    "liner_reg.fit(x_train,y_train)"
   ]
  },
  {
   "cell_type": "raw",
   "id": "73d2b0fc",
   "metadata": {},
   "source": [
    "Y = m1x1 + m2x2 + ... + mNxN + c\n",
    "\n",
    "Y = 0.428*x1 + 0.0.537*x2 + ... + mNxN +  -861.7980037971927\n"
   ]
  },
  {
   "cell_type": "code",
   "execution_count": 117,
   "id": "31d72c27",
   "metadata": {
    "scrolled": false
   },
   "outputs": [
    {
     "data": {
      "text/plain": [
       "array([ 0.428,  0.537, -0.   ,  0.298, -0.526, -0.952, -0.808,  1.214,\n",
       "       -0.406])"
      ]
     },
     "execution_count": 117,
     "metadata": {},
     "output_type": "execute_result"
    }
   ],
   "source": [
    "np.around(liner_reg.coef_ ,3)"
   ]
  },
  {
   "cell_type": "code",
   "execution_count": 118,
   "id": "6e40a046",
   "metadata": {},
   "outputs": [
    {
     "data": {
      "text/plain": [
       "-861.5703528086987"
      ]
     },
     "execution_count": 118,
     "metadata": {},
     "output_type": "execute_result"
    }
   ],
   "source": [
    "liner_reg.intercept_"
   ]
  },
  {
   "cell_type": "markdown",
   "id": "a2325568",
   "metadata": {},
   "source": [
    "#### 7.model evaluaton"
   ]
  },
  {
   "cell_type": "markdown",
   "id": "8db70558",
   "metadata": {},
   "source": [
    "####  model evaluaton on testdata"
   ]
  },
  {
   "cell_type": "code",
   "execution_count": 119,
   "id": "f594c5b5",
   "metadata": {},
   "outputs": [
    {
     "data": {
      "text/plain": [
       "array([-4.86736074e-01,  6.90294167e+00,  4.18099429e+00,  9.48235495e+00,\n",
       "        1.00601273e+01,  2.63838220e+00, -3.41748690e+00,  2.12117547e+00,\n",
       "        3.82148277e+00, -3.01907125e-02,  8.22630653e+00,  3.01574119e+00,\n",
       "        3.35880926e+00,  2.17184292e+00, -7.58273588e-01, -6.25996436e-01,\n",
       "        4.25606349e+00,  2.04897815e+00,  8.78810123e+00,  1.10892753e-01,\n",
       "        8.33138202e+00,  4.69086178e+00,  4.68000545e+00,  7.22218186e+00,\n",
       "        3.03772310e-01,  1.63893250e+00,  4.10858567e+00,  8.06894148e+00,\n",
       "        6.53990618e+00,  4.99325817e+00,  8.18491022e-01,  1.79169207e+01,\n",
       "        1.59796365e+00,  5.05813792e+00,  2.05704653e+00,  1.27072867e+01,\n",
       "        1.98326628e+00,  1.15729718e+00,  4.93451825e+00,  4.99376155e+01,\n",
       "        2.09426076e+00,  2.93766117e+00,  3.99413908e+00, -1.29040111e-01,\n",
       "        2.60509110e+00,  4.14862437e+00,  9.51584072e+00,  9.22439112e+00,\n",
       "        3.28643465e+00,  8.00281142e-01,  4.24093030e+00,  1.91859119e+00,\n",
       "        1.46558853e+01,  4.16931569e+00,  2.17746343e+01,  1.24542663e+00,\n",
       "        8.73497247e+00,  4.04083419e+00,  5.60648652e+00,  4.04088537e+00,\n",
       "       -5.38733985e-02])"
      ]
     },
     "execution_count": 119,
     "metadata": {},
     "output_type": "execute_result"
    }
   ],
   "source": [
    "y_pred=liner_reg.predict(x_test)\n",
    "y_pred"
   ]
  },
  {
   "cell_type": "code",
   "execution_count": 120,
   "id": "295d8e3f",
   "metadata": {},
   "outputs": [
    {
     "data": {
      "text/plain": [
       "257    8.50\n",
       "201    3.25\n",
       "204    2.75\n",
       "126    0.90\n",
       "193    0.20\n",
       "Name: Selling_Price, dtype: float64"
      ]
     },
     "execution_count": 120,
     "metadata": {},
     "output_type": "execute_result"
    }
   ],
   "source": [
    "y_test[10:15]"
   ]
  },
  {
   "cell_type": "code",
   "execution_count": 121,
   "id": "1a6feb1a",
   "metadata": {},
   "outputs": [
    {
     "data": {
      "text/plain": [
       "array([ 8.22630653,  3.01574119,  3.35880926,  2.17184292, -0.75827359])"
      ]
     },
     "execution_count": 121,
     "metadata": {},
     "output_type": "execute_result"
    }
   ],
   "source": [
    "y_pred[10:15]"
   ]
  },
  {
   "cell_type": "markdown",
   "id": "518f5815",
   "metadata": {},
   "source": [
    "#### residual of testdata"
   ]
  },
  {
   "cell_type": "code",
   "execution_count": 122,
   "id": "2b386b4f",
   "metadata": {},
   "outputs": [
    {
     "data": {
      "text/plain": [
       "257    0.273693\n",
       "201    0.234259\n",
       "204   -0.608809\n",
       "126   -1.271843\n",
       "193    0.958274\n",
       "Name: Selling_Price, dtype: float64"
      ]
     },
     "execution_count": 122,
     "metadata": {},
     "output_type": "execute_result"
    }
   ],
   "source": [
    "residual=y_test-y_pred\n",
    "residual[10:15]"
   ]
  },
  {
   "cell_type": "markdown",
   "id": "0b565d12",
   "metadata": {},
   "source": [
    "##### Testing data evaluation"
   ]
  },
  {
   "cell_type": "code",
   "execution_count": 123,
   "id": "226a4de5",
   "metadata": {},
   "outputs": [
    {
     "name": "stdout",
     "output_type": "stream",
     "text": [
      "mean_squared_error      : 5.342666155762936\n",
      "root mean squared error : 2.3114208088885366\n",
      "mean_absolute_error     : 1.2358606640617453\n",
      "R-squared value is      : 0.8429605348613081\n",
      "adjusted R-squared value: 0.8152476880721271\n"
     ]
    }
   ],
   "source": [
    "y_pred=liner_reg.predict(x_test)\n",
    "\n",
    "mse=mean_squared_error(y_test,y_pred)\n",
    "print(\"mean_squared_error      :\",mse)\n",
    "\n",
    "rmse=np.sqrt(mse)\n",
    "print(\"root mean squared error :\",rmse)\n",
    "\n",
    "mae=mean_absolute_error(y_test,y_pred)\n",
    "print(\"mean_absolute_error     :\",mae)\n",
    "\n",
    "R2_value=r2_score(y_test,y_pred)\n",
    "print(\"R-squared value is      :\",R2_value)\n",
    "\n",
    "n=x_test.shape[0]\n",
    "k=x_test.shape[1]\n",
    "\n",
    "adj_R2=1-((1-R2_value)*(n-1))/(n-k-1)\n",
    "print(\"adjusted R-squared value:\",adj_R2)"
   ]
  },
  {
   "cell_type": "markdown",
   "id": "00ef489c",
   "metadata": {},
   "source": [
    "#####  model evaluaton on traindata"
   ]
  },
  {
   "cell_type": "code",
   "execution_count": 124,
   "id": "959c7a23",
   "metadata": {
    "scrolled": true
   },
   "outputs": [
    {
     "data": {
      "text/plain": [
       "array([ 2.44953889e+00,  1.04079610e+00,  5.32010539e+00,  1.19322488e+01,\n",
       "        5.31784544e-01,  5.52180659e+00,  8.29594515e+00,  8.11479497e+00,\n",
       "        1.59963315e+00,  6.81988797e+00,  9.19820386e-01,  3.15283281e+00,\n",
       "        9.48626719e+00,  5.73680224e+00,  2.71488307e+00,  1.95040225e+01,\n",
       "        4.75258196e+00,  5.12979960e+00,  2.52120072e+00,  1.78203438e-01,\n",
       "        6.21667273e+00,  1.13364780e+01, -1.70809085e+00,  8.85048507e-01,\n",
       "        3.84761155e+00,  5.02038577e+00,  7.32448281e+00,  1.83180123e+00,\n",
       "        5.93134153e-01,  3.54451569e+00,  9.72009994e+00,  7.60172451e+00,\n",
       "        4.05689080e+00,  8.09620797e+00,  2.36123038e+00,  4.00372784e+00,\n",
       "        2.60509574e+00,  1.52045933e+00,  1.03716461e+00,  2.46180881e+00,\n",
       "        1.96241367e+00,  7.43695162e+00,  1.46560798e+00,  5.99223911e+00,\n",
       "        2.23439546e+01,  1.57665172e+00,  1.18541922e+00,  1.48687957e+01,\n",
       "        7.31094792e+00,  8.31057817e+00,  6.34245306e+00,  1.02546554e+01,\n",
       "        1.84013117e+00,  1.39372066e+00,  3.55885012e+00,  1.00374098e+01,\n",
       "       -8.21234943e-01,  2.08482014e+00,  6.71697628e+00,  1.96273373e+00,\n",
       "       -3.06162636e+00,  4.70617405e+00,  9.78128399e+00, -2.85590183e+00,\n",
       "        5.79527477e+00,  4.44827995e+00,  8.69178338e+00,  6.02723844e+00,\n",
       "        2.19427777e+01,  6.35174188e+00,  5.02445624e+00, -4.73311846e-01,\n",
       "        2.58410367e+00,  3.37497075e+00,  1.88980418e+00,  4.41980907e+00,\n",
       "        6.71328233e+00,  4.82757034e+00,  1.29038196e-01,  2.44817556e+00,\n",
       "        7.79876295e+00,  7.83085983e+00,  1.63698023e+00,  2.05310420e+00,\n",
       "        7.36760096e-01,  1.68468106e+00,  5.15355447e+00, -1.73563599e+00,\n",
       "        7.80518722e+00,  4.53705248e+00,  7.19870074e+00,  2.26522229e+00,\n",
       "        4.27796055e+00,  4.85144704e+00,  1.02199138e+00, -2.07261280e-03,\n",
       "        6.14375312e+00,  8.75381767e+00,  1.04597345e+01,  6.91036863e-01,\n",
       "        4.27934668e+00,  9.98242643e-01,  1.02942645e+01,  2.92139685e+00,\n",
       "        5.58554168e+00,  6.94488658e+00,  6.29857309e+00,  1.76248598e+00,\n",
       "        6.94318286e+00,  8.61276859e+00,  1.62186813e+00, -1.20749937e+00,\n",
       "        5.64855550e+00,  6.02859444e+00,  5.99150416e+00,  2.35320914e+01,\n",
       "        3.88899609e+00, -2.54614358e+00,  8.29685404e+00,  4.71696161e+00,\n",
       "        1.95040225e+01,  9.52908840e+00,  6.55816180e+00,  9.28139938e+00,\n",
       "        2.13067949e+00,  8.23641518e-01,  3.62945513e+00,  3.19945761e+00,\n",
       "        2.43824124e+00,  8.70519746e+00,  5.38261507e+00, -1.99295467e+00,\n",
       "        1.63487358e+00, -9.44052145e-01,  3.85897259e+00,  6.71675395e+00,\n",
       "        2.45191524e+00, -2.05825947e+00,  2.00499679e+00,  1.10362586e+00,\n",
       "        1.20722118e+00, -1.03121937e+00,  1.04700406e+01,  3.30973732e+00,\n",
       "        5.82662846e+00, -1.35933396e+00,  1.57790283e+00,  1.87877145e+00,\n",
       "        2.16184521e+00,  2.24560971e+00,  2.89672678e+00,  1.77416984e+00,\n",
       "        1.48183180e+00,  9.49373006e-01,  5.46142412e+00,  6.26406689e-01,\n",
       "        3.51033578e+00,  5.65986424e+00,  6.69510467e+00,  1.76725573e+01,\n",
       "        1.79246369e+01,  4.77348841e+00,  5.54009753e+00,  4.02999269e+00,\n",
       "       -8.88923602e-03,  4.59589075e+00,  4.12692544e-01,  1.98446974e+00,\n",
       "        4.68494982e+00,  2.09598340e+00,  9.22955920e+00, -3.65511378e+00,\n",
       "        7.83722727e+00,  6.17698105e+00,  6.63762001e-01,  5.30893067e+00,\n",
       "        2.16756354e+00, -8.14339748e-01,  3.59038890e+00,  5.13039038e+00,\n",
       "        3.27860315e+00,  6.41890338e+00,  8.75381767e+00,  4.27455686e+00,\n",
       "        1.53005312e+00,  8.24638123e+00,  1.76717777e+00,  2.80949462e-01,\n",
       "        3.06233697e+00,  1.13843597e+01, -5.01975529e-01,  1.52273154e+00,\n",
       "        9.98741666e+00,  6.37102191e+00,  5.69260176e+00,  4.70571961e+00,\n",
       "        1.16928377e+00,  6.79751958e+00,  8.23751577e-02,  1.51452925e+00,\n",
       "        1.10141029e+00,  1.26980256e+00,  1.74703509e+00,  7.49572700e+00,\n",
       "        2.58536686e+00,  2.91353832e-01,  5.59831029e+00,  1.13003069e+00,\n",
       "        6.16668416e+00,  5.07786123e+00,  1.63819911e+00,  4.12779875e+00,\n",
       "        2.33244876e+00,  1.71804921e+01,  1.79960160e+01,  8.25504541e+00,\n",
       "       -3.38886676e+00,  4.35367176e+00,  1.07570658e+00,  1.12956874e+01,\n",
       "       -1.25958495e-01,  4.04367328e+00,  6.76089085e+00,  6.94381908e+00,\n",
       "       -3.68368735e+00,  4.52749484e-01,  6.42244803e+00, -1.00215341e+00,\n",
       "        3.86193101e+00,  7.39647965e+00, -4.75564583e-01,  3.83796812e+00,\n",
       "        2.40688477e+00,  4.21065779e+00,  7.50966070e+00,  7.21338973e-01,\n",
       "        6.39160549e+00,  1.06725692e+01,  1.10454810e+01, -1.23420332e+00])"
      ]
     },
     "execution_count": 124,
     "metadata": {},
     "output_type": "execute_result"
    }
   ],
   "source": [
    "y_pred_train=liner_reg.predict(x_train)\n",
    "y_pred_train"
   ]
  },
  {
   "cell_type": "code",
   "execution_count": 125,
   "id": "c031b656",
   "metadata": {},
   "outputs": [
    {
     "data": {
      "text/plain": [
       "136    0.65\n",
       "26     4.15\n",
       "95     5.85\n",
       "206    5.75\n",
       "273    2.25\n",
       "Name: Selling_Price, dtype: float64"
      ]
     },
     "execution_count": 125,
     "metadata": {},
     "output_type": "execute_result"
    }
   ],
   "source": [
    "y_train[10:15]"
   ]
  },
  {
   "cell_type": "code",
   "execution_count": 126,
   "id": "65865127",
   "metadata": {},
   "outputs": [
    {
     "data": {
      "text/plain": [
       "array([0.91982039, 3.15283281, 9.48626719, 5.73680224, 2.71488307])"
      ]
     },
     "execution_count": 126,
     "metadata": {},
     "output_type": "execute_result"
    }
   ],
   "source": [
    "y_pred_train[10:15]"
   ]
  },
  {
   "cell_type": "markdown",
   "id": "ae83e3e3",
   "metadata": {},
   "source": [
    "#### residual of traindata"
   ]
  },
  {
   "cell_type": "code",
   "execution_count": 127,
   "id": "bde91090",
   "metadata": {
    "scrolled": true
   },
   "outputs": [
    {
     "data": {
      "text/plain": [
       "136   -0.269820\n",
       "26     0.997167\n",
       "95    -3.636267\n",
       "206    0.013198\n",
       "273   -0.464883\n",
       "Name: Selling_Price, dtype: float64"
      ]
     },
     "execution_count": 127,
     "metadata": {},
     "output_type": "execute_result"
    }
   ],
   "source": [
    "residual_train=y_train - y_pred_train\n",
    "residual_train[10:15]"
   ]
  },
  {
   "cell_type": "markdown",
   "id": "155a65c0",
   "metadata": {},
   "source": [
    "#### Training data evaluation"
   ]
  },
  {
   "cell_type": "code",
   "execution_count": 128,
   "id": "7098af34",
   "metadata": {},
   "outputs": [
    {
     "name": "stdout",
     "output_type": "stream",
     "text": [
      "mean_squared_error      : 2.994058579662359\n",
      "root mean squared error : 1.7303348172138129\n",
      "mean_absolute_error     : 1.1941021434235144\n",
      "R-squared value is      : 0.8729748075952624\n",
      "adjusted R-squared value: 0.8680042565881204\n"
     ]
    }
   ],
   "source": [
    "y_pred_train=liner_reg.predict(x_train)\n",
    "\n",
    "mse=mean_squared_error(y_train,y_pred_train)\n",
    "print(\"mean_squared_error      :\",mse)\n",
    "\n",
    "rmse=np.sqrt(mse)\n",
    "print(\"root mean squared error :\",rmse)\n",
    "\n",
    "mae=mean_absolute_error(y_train,y_pred_train)\n",
    "print(\"mean_absolute_error     :\",mae)\n",
    "\n",
    "R2_value=r2_score(y_train,y_pred_train)\n",
    "print(\"R-squared value is      :\",R2_value)\n",
    "\n",
    "n=x_train.shape[0]\n",
    "k=x_train.shape[1]\n",
    "\n",
    "adj_R2=1-((1-R2_value)*(n-1))/(n-k-1)\n",
    "print(\"adjusted R-squared value:\",adj_R2)"
   ]
  },
  {
   "cell_type": "markdown",
   "id": "b9c70ec2",
   "metadata": {},
   "source": [
    "### Normality of residual"
   ]
  },
  {
   "cell_type": "raw",
   "id": "98c54d22",
   "metadata": {},
   "source": [
    "Error or Residual\n",
    " \n",
    "Residual = Ya - Yp\n",
    "\n",
    "Residual will be positive if datapoint is above the regression line\n",
    "Residual will be negative if datapoint is below the regression line\n",
    "Residual will be zero if datapoint is on the regression line\n",
    "\n",
    "How to Check Normality:\n",
    "    1. Visualization Tools:(Matplotlib, Seaborn)\n",
    "        1.1  kdeplot\n",
    "        1.2  histplot\n",
    "        1.3  distplot\n",
    "        \n",
    "    2. QQ-Plot:\n",
    "        Powerful technique to check normality\n",
    "        Quantile-Quantile Plot\n",
    "        \n",
    "    3. Hypothesis Testing:\n",
    "        1. shapiro test\n",
    "        2. kstest test\n",
    "        3. normal test\n",
    "        \n",
    "    4. Skewness:\n",
    "        Positive Skewnees\n",
    "        Negative Skewness\n",
    "        Symmetric Data"
   ]
  },
  {
   "cell_type": "markdown",
   "id": "f61ba934",
   "metadata": {},
   "source": [
    "#### Visualization Tools"
   ]
  },
  {
   "cell_type": "markdown",
   "id": "13bed948",
   "metadata": {},
   "source": [
    "#### 1.1  kdeplot"
   ]
  },
  {
   "cell_type": "code",
   "execution_count": 129,
   "id": "8b24c866",
   "metadata": {},
   "outputs": [
    {
     "data": {
      "text/plain": [
       "<Axes: xlabel='Selling_Price', ylabel='Density'>"
      ]
     },
     "execution_count": 129,
     "metadata": {},
     "output_type": "execute_result"
    },
    {
     "data": {
      "image/png": "[encoded data removed]",
      "text/plain": [
       "<Figure size 640x480 with 1 Axes>"
      ]
     },
     "metadata": {},
     "output_type": "display_data"
    }
   ],
   "source": [
    "sns.kdeplot(residual_train)  "
   ]
  },
  {
   "cell_type": "markdown",
   "id": "43a22e1e",
   "metadata": {},
   "source": [
    "#### 1.2  histplot"
   ]
  },
  {
   "cell_type": "code",
   "execution_count": 130,
   "id": "cf61c130",
   "metadata": {},
   "outputs": [
    {
     "data": {
      "text/plain": [
       "<Axes: xlabel='Selling_Price', ylabel='Count'>"
      ]
     },
     "execution_count": 130,
     "metadata": {},
     "output_type": "execute_result"
    },
    {
     "data": {
      "image/png": "[encoded data removed]",
      "text/plain": [
       "<Figure size 640x480 with 1 Axes>"
      ]
     },
     "metadata": {},
     "output_type": "display_data"
    }
   ],
   "source": [
    "sns.histplot(residual_train)"
   ]
  },
  {
   "cell_type": "markdown",
   "id": "e29cf728",
   "metadata": {},
   "source": [
    "#### 1.3  distplot"
   ]
  },
  {
   "cell_type": "code",
   "execution_count": 131,
   "id": "a4a18f06",
   "metadata": {},
   "outputs": [
    {
     "data": {
      "text/plain": [
       "<Axes: xlabel='Selling_Price', ylabel='Density'>"
      ]
     },
     "execution_count": 131,
     "metadata": {},
     "output_type": "execute_result"
    },
    {
     "data": {
      "image/png": "[encoded data removed]",
      "text/plain": [
       "<Figure size 640x480 with 1 Axes>"
      ]
     },
     "metadata": {},
     "output_type": "display_data"
    }
   ],
   "source": [
    "sns.distplot(residual_train)"
   ]
  },
  {
   "cell_type": "markdown",
   "id": "07910ddc",
   "metadata": {},
   "source": [
    "#### 2. QQ-Plot"
   ]
  },
  {
   "cell_type": "code",
   "execution_count": 132,
   "id": "87e2acf8",
   "metadata": {},
   "outputs": [
    {
     "data": {
      "image/png": "[encoded data removed]",
      "text/plain": [
       "<Figure size 640x480 with 1 Axes>"
      ]
     },
     "execution_count": 132,
     "metadata": {},
     "output_type": "execute_result"
    },
    {
     "data": {
      "image/png": "[encoded data removed]",
      "text/plain": [
       "<Figure size 640x480 with 1 Axes>"
      ]
     },
     "metadata": {},
     "output_type": "display_data"
    }
   ],
   "source": [
    "sm.qqplot(residual_train,line=\"45\",fit=True)"
   ]
  },
  {
   "cell_type": "markdown",
   "id": "8f5e4e35",
   "metadata": {},
   "source": [
    "#### 3. Hypothesis Testing:"
   ]
  },
  {
   "cell_type": "raw",
   "id": "8790b5c8",
   "metadata": {},
   "source": [
    "Used tio check Normality of residual\n",
    "\n",
    "Null hypothesis      -> H0\n",
    "Alternate hypothesis -> H1/Ha\n",
    "\n",
    "probablity range  >> 0 to 1 \n",
    "\n",
    "Null hypothesis is True         ---> data normally distributed \n",
    "Alternate hypothesis is False   ---> data is not normally distributed \n",
    "\n",
    "\n",
    "\n",
    "p / significant vale >> 0.5 >>   Null Hy is true      \n",
    "                                 Alternate hy is false \n",
    "\n",
    "p / significant vale << 0.5  >>  Null Hy is false      \n",
    "                                 Alternate hy is Truue \n",
    "           \n",
    "           \n",
    "        1. shapiro test\n",
    "        2. kstest test\n",
    "        3. normal test\n",
    "           "
   ]
  },
  {
   "cell_type": "markdown",
   "id": "0585938c",
   "metadata": {},
   "source": [
    "#### 3.1.shapiro"
   ]
  },
  {
   "cell_type": "code",
   "execution_count": 133,
   "id": "4fbe3058",
   "metadata": {},
   "outputs": [
    {
     "name": "stdout",
     "output_type": "stream",
     "text": [
      "val 1.4649554902490536e-09\n",
      "Alternate hypothesis is True\n",
      "data not normally distributed\n"
     ]
    }
   ],
   "source": [
    "_,p_val=shapiro(residual_train)\n",
    "print(\"val\",p_val)\n",
    "if p_val > 0.5 :\n",
    "    print(\"Null Hy hypothesis true\")\n",
    "    print(\"data normally distributed\")\n",
    "else:\n",
    "    print(\"Alternate hypothesis is True\")\n",
    "    print(\"data not normally distributed\")"
   ]
  },
  {
   "cell_type": "markdown",
   "id": "01235b28",
   "metadata": {},
   "source": [
    "#### 3.  2. kstest test"
   ]
  },
  {
   "cell_type": "code",
   "execution_count": 134,
   "id": "01afb855",
   "metadata": {},
   "outputs": [
    {
     "name": "stdout",
     "output_type": "stream",
     "text": [
      "val 0.02747111875636543\n",
      "Alternate hypothesis is True\n",
      "data not normally distributed\n"
     ]
    }
   ],
   "source": [
    "_,p_val=kstest(residual_train,\"norm\")\n",
    "print(\"val\",p_val)\n",
    "if p_val > 0.5 :\n",
    "    print(\"Null Hy hypothesis true\")\n",
    "    print(\"data normally distributed\")\n",
    "else:\n",
    "    print(\"Alternate hypothesis is True\")\n",
    "    print(\"data not normally distributed\")"
   ]
  },
  {
   "cell_type": "markdown",
   "id": "153a5979",
   "metadata": {},
   "source": [
    "#### 3. normal test"
   ]
  },
  {
   "cell_type": "code",
   "execution_count": 135,
   "id": "e628ba51",
   "metadata": {},
   "outputs": [
    {
     "name": "stdout",
     "output_type": "stream",
     "text": [
      "val 5.858317227329977e-11\n",
      "Alternate hypothesis is True\n",
      "data not normally distributed\n"
     ]
    }
   ],
   "source": [
    "_,p_val=normaltest(residual_train)\n",
    "print(\"val\",p_val)\n",
    "if p_val > 0.5 :\n",
    "    print(\"Null Hy hypothesis true\")\n",
    "    print(\"data normally distributed\")\n",
    "else:\n",
    "    print(\"Alternate hypothesis is True\")\n",
    "    print(\"data not normally distributed\")"
   ]
  },
  {
   "cell_type": "markdown",
   "id": "f723dbe9",
   "metadata": {},
   "source": [
    "#### 4. Skewness:"
   ]
  },
  {
   "cell_type": "raw",
   "id": "defe05b7",
   "metadata": {},
   "source": [
    ">>  postitivly skewned data:\n",
    "    \n",
    "    -mean > median \n",
    "    -tail of distribution towards right side \n",
    "\n",
    ">>  negativly skewned data :\n",
    " \n",
    "    -mean < median \n",
    "    -tail of distribution towards left side \n",
    "\n",
    "\n",
    ">>  symmetric distribution/skewness:\n",
    "     \n",
    "    -mean == median \n",
    "    -Bell shape/curve of distribution \n",
    "\n",
    "skewness ranges :\n",
    "    \n",
    "-0.5 to +0.5     >>  symmetric distribution/skewness\n",
    "-1   to +0.5     >>  negativly skewned data \n",
    "+0.5 to 1.0      >>  postitivly skewned data\n",
    "\n",
    "\n",
    "\n",
    "skewned values :\n",
    "    \n",
    "skew > +1.0   -- Highly postivly skewed data\n",
    "skew < -1.0   -- Highly Negtivly skewed data"
   ]
  },
  {
   "cell_type": "markdown",
   "id": "a7597d01",
   "metadata": {},
   "source": [
    "#### skewness"
   ]
  },
  {
   "cell_type": "code",
   "execution_count": 138,
   "id": "2c695808",
   "metadata": {},
   "outputs": [
    {
     "name": "stdout",
     "output_type": "stream",
     "text": [
      "mean:  7.451446866942509e-14\n",
      "median:  -0.08591494850765002\n",
      "skew:  0.6055122148235343\n",
      "positive skewed data\n",
      "skew: 0.6055122148235343\n"
     ]
    }
   ],
   "source": [
    "mean=residual_train.mean()\n",
    "median=residual_train.median()\n",
    "skew=residual_train.skew()\n",
    "print(\"mean: \",mean)\n",
    "print(\"median: \",median)\n",
    "print(\"skew: \",skew)\n",
    "\n",
    "if mean>median:\n",
    "    print(\"positive skewed data\")\n",
    "    print(\"skew:\",skew)\n",
    "elif mean<median:\n",
    "    print(\"Negativly skewed data\")\n",
    "    print(\"skew:\",skew)\n",
    "else:\n",
    "    print(\"Symmetric skewed data\")\n",
    "    print(\"skew:\",skew)\n",
    "    "
   ]
  },
  {
   "cell_type": "code",
   "execution_count": 139,
   "id": "44ee5db8",
   "metadata": {},
   "outputs": [
    {
     "data": {
      "text/plain": [
       "<Axes: xlabel='Selling_Price', ylabel='Density'>"
      ]
     },
     "execution_count": 139,
     "metadata": {},
     "output_type": "execute_result"
    },
    {
     "data": {
      "image/png": "[encoded data removed]",
      "text/plain": [
       "<Figure size 640x480 with 1 Axes>"
      ]
     },
     "metadata": {},
     "output_type": "display_data"
    }
   ],
   "source": [
    "sns.kdeplot(residual_train)"
   ]
  },
  {
   "cell_type": "markdown",
   "id": "0b314e17",
   "metadata": {},
   "source": [
    "### Single Row Testing"
   ]
  },
  {
   "cell_type": "code",
   "execution_count": 140,
   "id": "acb31bb2",
   "metadata": {
    "scrolled": true
   },
   "outputs": [
    {
     "data": {
      "text/html": [
       "<div>\n",
       "<style scoped>\n",
       "    .dataframe tbody tr th:only-of-type {\n",
       "        vertical-align: middle;\n",
       "    }\n",
       "\n",
       "    .dataframe tbody tr th {\n",
       "        vertical-align: top;\n",
       "    }\n",
       "\n",
       "    .dataframe thead th {\n",
       "        text-align: right;\n",
       "    }\n",
       "</style>\n",
       "<table border=\"1\" class=\"dataframe\">\n",
       "  <thead>\n",
       "    <tr style=\"text-align: right;\">\n",
       "      <th></th>\n",
       "      <th>Year</th>\n",
       "      <th>Present_Price</th>\n",
       "      <th>Kms_Driven</th>\n",
       "      <th>Seller_Type</th>\n",
       "      <th>Transmission</th>\n",
       "      <th>Owner</th>\n",
       "      <th>Fuel_Type_CNG</th>\n",
       "      <th>Fuel_Type_Diesel</th>\n",
       "      <th>Fuel_Type_Petrol</th>\n",
       "    </tr>\n",
       "  </thead>\n",
       "  <tbody>\n",
       "    <tr>\n",
       "      <th>257</th>\n",
       "      <td>2015</td>\n",
       "      <td>13.6</td>\n",
       "      <td>40324</td>\n",
       "      <td>1</td>\n",
       "      <td>1</td>\n",
       "      <td>0</td>\n",
       "      <td>0</td>\n",
       "      <td>0</td>\n",
       "      <td>1</td>\n",
       "    </tr>\n",
       "  </tbody>\n",
       "</table>\n",
       "</div>"
      ],
      "text/plain": [
       "     Year  Present_Price  Kms_Driven  Seller_Type  Transmission  Owner   \n",
       "257  2015           13.6       40324            1             1      0  \\\n",
       "\n",
       "     Fuel_Type_CNG  Fuel_Type_Diesel  Fuel_Type_Petrol  \n",
       "257              0                 0                 1  "
      ]
     },
     "execution_count": 140,
     "metadata": {},
     "output_type": "execute_result"
    }
   ],
   "source": [
    "x_test[10:11]"
   ]
  },
  {
   "cell_type": "code",
   "execution_count": 141,
   "id": "594d2dc3",
   "metadata": {},
   "outputs": [],
   "source": [
    "Year             =2015\n",
    "Present_Price    =13.6\n",
    "Kms_Driven       =40324\n",
    "Fuel_Type        =\"Petrol\"\n",
    "Seller_Type      =\"Dealer\"\n",
    "Transmission     =\"Manual\"\n",
    "Owner            =0\n"
   ]
  },
  {
   "cell_type": "code",
   "execution_count": 142,
   "id": "17a63eb3",
   "metadata": {},
   "outputs": [
    {
     "data": {
      "text/plain": [
       "['Year',\n",
       " 'Present_Price',\n",
       " 'Kms_Driven',\n",
       " 'Seller_Type',\n",
       " 'Transmission',\n",
       " 'Owner',\n",
       " 'Fuel_Type_CNG',\n",
       " 'Fuel_Type_Diesel',\n",
       " 'Fuel_Type_Petrol']"
      ]
     },
     "execution_count": 142,
     "metadata": {},
     "output_type": "execute_result"
    }
   ],
   "source": [
    "column_names=x.columns.tolist()\n",
    "column_names"
   ]
  },
  {
   "cell_type": "code",
   "execution_count": 143,
   "id": "0c1f127c",
   "metadata": {
    "scrolled": true
   },
   "outputs": [
    {
     "data": {
      "text/plain": [
       "9"
      ]
     },
     "execution_count": 143,
     "metadata": {},
     "output_type": "execute_result"
    }
   ],
   "source": [
    "x.shape[1]"
   ]
  },
  {
   "cell_type": "code",
   "execution_count": 144,
   "id": "305d172d",
   "metadata": {},
   "outputs": [
    {
     "data": {
      "text/plain": [
       "9"
      ]
     },
     "execution_count": 144,
     "metadata": {},
     "output_type": "execute_result"
    }
   ],
   "source": [
    "liner_reg.n_features_in_"
   ]
  },
  {
   "cell_type": "code",
   "execution_count": 157,
   "id": "4b924ee7",
   "metadata": {},
   "outputs": [
    {
     "data": {
      "text/html": [
       "<div>\n",
       "<style scoped>\n",
       "    .dataframe tbody tr th:only-of-type {\n",
       "        vertical-align: middle;\n",
       "    }\n",
       "\n",
       "    .dataframe tbody tr th {\n",
       "        vertical-align: top;\n",
       "    }\n",
       "\n",
       "    .dataframe thead th {\n",
       "        text-align: right;\n",
       "    }\n",
       "</style>\n",
       "<table border=\"1\" class=\"dataframe\">\n",
       "  <thead>\n",
       "    <tr style=\"text-align: right;\">\n",
       "      <th></th>\n",
       "      <th>Year</th>\n",
       "      <th>Present_Price</th>\n",
       "      <th>Kms_Driven</th>\n",
       "      <th>Seller_Type</th>\n",
       "      <th>Transmission</th>\n",
       "      <th>Owner</th>\n",
       "      <th>Fuel_Type_CNG</th>\n",
       "      <th>Fuel_Type_Diesel</th>\n",
       "      <th>Fuel_Type_Petrol</th>\n",
       "    </tr>\n",
       "  </thead>\n",
       "  <tbody>\n",
       "    <tr>\n",
       "      <th>15</th>\n",
       "      <td>2016</td>\n",
       "      <td>10.79</td>\n",
       "      <td>43000</td>\n",
       "      <td>1</td>\n",
       "      <td>1</td>\n",
       "      <td>0</td>\n",
       "      <td>0</td>\n",
       "      <td>1</td>\n",
       "      <td>0</td>\n",
       "    </tr>\n",
       "  </tbody>\n",
       "</table>\n",
       "</div>"
      ],
      "text/plain": [
       "    Year  Present_Price  Kms_Driven  Seller_Type  Transmission  Owner   \n",
       "15  2016          10.79       43000            1             1      0  \\\n",
       "\n",
       "    Fuel_Type_CNG  Fuel_Type_Diesel  Fuel_Type_Petrol  \n",
       "15              0                 1                 0  "
      ]
     },
     "execution_count": 157,
     "metadata": {},
     "output_type": "execute_result"
    }
   ],
   "source": [
    "x[15:16]"
   ]
  },
  {
   "cell_type": "code",
   "execution_count": 163,
   "id": "92107a11",
   "metadata": {},
   "outputs": [
    {
     "data": {
      "text/plain": [
       "8.98"
      ]
     },
     "execution_count": 163,
     "metadata": {},
     "output_type": "execute_result"
    }
   ],
   "source": [
    "Year             =2016\n",
    "Present_Price    =10.79\n",
    "Kms_Driven       =43000\n",
    "Fuel_Type        =\"Diesel\"\n",
    "Seller_Type      =\"Dealer\"\n",
    "Transmission     =\"Manual\"\n",
    "Owner            =0\n",
    "\n",
    "\n",
    "Seller_Type      =Seller_Type_data[Seller_Type]\n",
    "Transmission     =Transmission_data[Transmission]\n",
    "Fuel_Type        =\"Fuel_Type_\"+Fuel_Type\n",
    "\n",
    "\n",
    "Fuel_Type_index = column_names.index(Fuel_Type)\n",
    "Fuel_Type_index\n",
    "\n",
    "test_array=np.zeros([1,liner_reg.n_features_in_ ])\n",
    "\n",
    "\n",
    "test_array[0,0] = Year\n",
    "test_array[0,1] = Present_Price\n",
    "test_array[0,2] = Kms_Driven\n",
    "\n",
    "test_array[0,Fuel_Type_index] = 1\n",
    "\n",
    "test_array[0,4] = Seller_Type\n",
    "test_array[0,5] = Transmission\n",
    "test_array[0,6] = Owner\n",
    "\n",
    "\n",
    "predicted_charges =np.around(liner_reg.predict(test_array)[0],2)\n",
    "predicted_charges"
   ]
  },
  {
   "cell_type": "markdown",
   "id": "fd7faa8a",
   "metadata": {},
   "source": [
    "#### pickle and json creation"
   ]
  },
  {
   "cell_type": "code",
   "execution_count": 148,
   "id": "2910ea19",
   "metadata": {},
   "outputs": [],
   "source": [
    "with open(\"linear_regression_car_dekho.pkl\",\"wb\") as f:\n",
    "      pickle.dump(liner_reg,f)  "
   ]
  },
  {
   "cell_type": "code",
   "execution_count": 149,
   "id": "d006c8b7",
   "metadata": {},
   "outputs": [],
   "source": [
    "project_data = {\"seller\":new_data1,\n",
    "             \"transmission\":new_data2,\n",
    "                \"Column Names\" :column_names}\n",
    "\n",
    "\n",
    "with open('car_dekho.json','w') as f:\n",
    "    json.dump(project_data, f)"
   ]
  },
  {
   "cell_type": "code",
   "execution_count": 156,
   "id": "2acb080e",
   "metadata": {},
   "outputs": [
    {
     "data": {
      "text/html": [
       "<div>\n",
       "<style scoped>\n",
       "    .dataframe tbody tr th:only-of-type {\n",
       "        vertical-align: middle;\n",
       "    }\n",
       "\n",
       "    .dataframe tbody tr th {\n",
       "        vertical-align: top;\n",
       "    }\n",
       "\n",
       "    .dataframe thead th {\n",
       "        text-align: right;\n",
       "    }\n",
       "</style>\n",
       "<table border=\"1\" class=\"dataframe\">\n",
       "  <thead>\n",
       "    <tr style=\"text-align: right;\">\n",
       "      <th></th>\n",
       "      <th>Year</th>\n",
       "      <th>Present_Price</th>\n",
       "      <th>Kms_Driven</th>\n",
       "      <th>Seller_Type</th>\n",
       "      <th>Transmission</th>\n",
       "      <th>Owner</th>\n",
       "      <th>Fuel_Type_CNG</th>\n",
       "      <th>Fuel_Type_Diesel</th>\n",
       "      <th>Fuel_Type_Petrol</th>\n",
       "    </tr>\n",
       "  </thead>\n",
       "  <tbody>\n",
       "    <tr>\n",
       "      <th>15</th>\n",
       "      <td>2016</td>\n",
       "      <td>10.79</td>\n",
       "      <td>43000</td>\n",
       "      <td>1</td>\n",
       "      <td>1</td>\n",
       "      <td>0</td>\n",
       "      <td>0</td>\n",
       "      <td>1</td>\n",
       "      <td>0</td>\n",
       "    </tr>\n",
       "  </tbody>\n",
       "</table>\n",
       "</div>"
      ],
      "text/plain": [
       "    Year  Present_Price  Kms_Driven  Seller_Type  Transmission  Owner   \n",
       "15  2016          10.79       43000            1             1      0  \\\n",
       "\n",
       "    Fuel_Type_CNG  Fuel_Type_Diesel  Fuel_Type_Petrol  \n",
       "15              0                 1                 0  "
      ]
     },
     "execution_count": 156,
     "metadata": {},
     "output_type": "execute_result"
    }
   ],
   "source": [
    "x[15:16]"
   ]
  },
  {
   "cell_type": "code",
   "execution_count": 150,
   "id": "8ac6b1e8",
   "metadata": {},
   "outputs": [
    {
     "data": {
      "text/plain": [
       "{'Dealer': 1, 'Individual': 0}"
      ]
     },
     "execution_count": 150,
     "metadata": {},
     "output_type": "execute_result"
    }
   ],
   "source": [
    "new_data1"
   ]
  },
  {
   "cell_type": "code",
   "execution_count": 153,
   "id": "139cbcc4",
   "metadata": {},
   "outputs": [
    {
     "data": {
      "text/plain": [
       "Seller_Type\n",
       "1    195\n",
       "0    106\n",
       "Name: count, dtype: int64"
      ]
     },
     "execution_count": 153,
     "metadata": {},
     "output_type": "execute_result"
    }
   ],
   "source": [
    "df[\"Seller_Type\"].value_counts()"
   ]
  },
  {
   "cell_type": "code",
   "execution_count": 151,
   "id": "deb5ac1c",
   "metadata": {},
   "outputs": [
    {
     "data": {
      "text/plain": [
       "{'Manual': 1, 'Automatic': 0}"
      ]
     },
     "execution_count": 151,
     "metadata": {},
     "output_type": "execute_result"
    }
   ],
   "source": [
    "new_data2"
   ]
  },
  {
   "cell_type": "code",
   "execution_count": 152,
   "id": "5a6ce664",
   "metadata": {},
   "outputs": [
    {
     "data": {
      "text/plain": [
       "Transmission\n",
       "1    261\n",
       "0     40\n",
       "Name: count, dtype: int64"
      ]
     },
     "execution_count": 152,
     "metadata": {},
     "output_type": "execute_result"
    }
   ],
   "source": [
    "df[\"Transmission\"].value_counts()"
   ]
  }
 ],
 "metadata": {
  "kernelspec": {
   "display_name": "Python 3 (ipykernel)",
   "language": "python",
   "name": "python3"
  },
  "language_info": {
   "codemirror_mode": {
    "name": "ipython",
    "version": 3
   },
   "file_extension": ".py",
   "mimetype": "text/x-python",
   "name": "python",
   "nbconvert_exporter": "python",
   "pygments_lexer": "ipython3",
   "version": "3.10.7"
  }
 },
 "nbformat": 4,
 "nbformat_minor": 5
}
